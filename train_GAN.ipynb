{
 "cells": [
  {
   "cell_type": "markdown",
   "metadata": {},
   "source": [
    "# Imports"
   ]
  },
  {
   "cell_type": "code",
   "execution_count": 1,
   "metadata": {},
   "outputs": [],
   "source": [
    "import numpy as np # linear algebra\n",
    "import pandas as pd # data processing, CSV file I/O (e.g. pd.read_csv)\n",
    "import cv2\n",
    "import matplotlib.pyplot as plt\n",
    "import pathlib\n",
    "import tensorflow as tf\n",
    "from tensorflow import keras\n",
    "import os\n",
    "import time\n",
    "import random\n",
    "import glob # Khoa's stuff\n",
    "import IPython.display\n",
    "\n",
    "# Utilities\n",
    "import scipy.io.wavfile as wav\n",
    "from utils.audio_spectrogram import stft\n",
    "from PIL import Image\n",
    "\n",
    "# Models\n",
    "from models.deepfake_generator import generator\n",
    "from models.visual_quality_discriminator import quality_discriminator"
   ]
  },
  {
   "cell_type": "markdown",
   "metadata": {},
   "source": [
    "# Test models"
   ]
  },
  {
   "cell_type": "code",
   "execution_count": 2,
   "metadata": {},
   "outputs": [
    {
     "name": "stdout",
     "output_type": "stream",
     "text": [
      "(1, 256, 256, 6)\n",
      "(1, 6, 513, 1)\n"
     ]
    },
    {
     "ename": "AttributeError",
     "evalue": "'KerasTensor' object has no attribute 'output'",
     "output_type": "error",
     "traceback": [
      "\u001b[1;31m---------------------------------------------------------------------------\u001b[0m",
      "\u001b[1;31mAttributeError\u001b[0m                            Traceback (most recent call last)",
      "Cell \u001b[1;32mIn [2], line 28\u001b[0m\n\u001b[0;32m     25\u001b[0m \u001b[39mprint\u001b[39m(audio_arr\u001b[39m.\u001b[39mshape)\n\u001b[0;32m     27\u001b[0m \u001b[39m# Define models\u001b[39;00m\n\u001b[1;32m---> 28\u001b[0m gen \u001b[39m=\u001b[39m generator()\n\u001b[0;32m     29\u001b[0m qual_disc \u001b[39m=\u001b[39m quality_discriminator()\n\u001b[0;32m     32\u001b[0m generated_img \u001b[39m=\u001b[39m gen\u001b[39m.\u001b[39mpredict([img_concat, audio_arr], batch_size\u001b[39m=\u001b[39m\u001b[39m1\u001b[39m)\n",
      "File \u001b[1;32mc:\\Users\\Khoa Nguyen\\Documents\\School\\Club\\QMIND\\deepfake-lip-sync\\models\\deepfake_generator.py:99\u001b[0m, in \u001b[0;36mgenerator\u001b[1;34m(training)\u001b[0m\n\u001b[0;32m     96\u001b[0m audio_model \u001b[39m=\u001b[39m audio_encoder()\n\u001b[0;32m     98\u001b[0m \u001b[39m# x = layers.Concatenate([identity_model.layers[-1].output, audio_model.layers[-1].output])\u001b[39;00m\n\u001b[1;32m---> 99\u001b[0m x \u001b[39m=\u001b[39m tf\u001b[39m.\u001b[39mconcat([identity_model\u001b[39m.\u001b[39;49moutput, audio_model\u001b[39m.\u001b[39moutput], axis\u001b[39m=\u001b[39m\u001b[39m-\u001b[39m\u001b[39m1\u001b[39m)\n\u001b[0;32m    100\u001b[0m \u001b[39m# I just copied it from the Simpson one. The parameters, to be exact. And I have no clue what the parameters are.\u001b[39;00m\n\u001b[0;32m    101\u001b[0m \u001b[39m# combined_output = layers.Conv2DTranspose(filters=3, kernel_size=[5, 5], strides=[1, 1], padding=\"SAME\",\u001b[39;00m\n\u001b[0;32m    102\u001b[0m \u001b[39m#                                          kernel_initializer=tf.keras.initializers.TruncatedNormal(stddev=WEIGHT_INIT_STDDEV),\u001b[39;00m\n\u001b[0;32m    103\u001b[0m \u001b[39m#                                          name=\"logits\")(x)\u001b[39;00m\n\u001b[0;32m    104\u001b[0m x \u001b[39m=\u001b[39m conv_t_block(x, \u001b[39m256\u001b[39m, \u001b[39m3\u001b[39m, \u001b[39m3\u001b[39m)\u001b[39m# 3x3\u001b[39;00m\n",
      "\u001b[1;31mAttributeError\u001b[0m: 'KerasTensor' object has no attribute 'output'"
     ]
    }
   ],
   "source": [
    "img = Image.open(\"./test_face.png\")\n",
    "img_arr = np.asarray(img)\n",
    "\n",
    "# create a mask\n",
    "img_masked = img_arr.copy()\n",
    "img_masked[256//2:,...] = 0\n",
    "\n",
    "# plt.imshow(img_masked)\n",
    "# display the mask, and the output image\n",
    "# cv2.imshow('Masked Image', img_masked)\n",
    "\n",
    "# concatenate masked ground truth to pose prior\n",
    "img_concat = np.concatenate([img_arr, img_masked], axis=2)\n",
    "\n",
    "# normalize\n",
    "img_concat = np.expand_dims(img_concat//255, axis=0)\n",
    "\n",
    "img_arr = np.reshape(img_arr, newshape=(1, 256, 256, 3))\n",
    "\n",
    "audio_samplerate, audio = wav.read(\"./test_audio.wav\")\n",
    "audio_arr = stft(audio, 2 ** 10) # what is this?\n",
    "audio_arr = np.reshape(audio_arr, newshape=(1, 6, 513, 1))\n",
    "\n",
    "print(img_concat.shape)\n",
    "print(audio_arr.shape)\n",
    "\n",
    "# Define models\n",
    "gen = generator()\n",
    "qual_disc = quality_discriminator()\n",
    "\n",
    "\n",
    "generated_img = gen.predict([img_concat, audio_arr], batch_size=1)\n",
    "\n",
    "print(generated_img.shape)\n",
    "plt.imshow(generated_img[0, :, :, :])\n"
   ]
  },
  {
   "cell_type": "markdown",
   "metadata": {},
   "source": [
    "# Plot Models"
   ]
  },
  {
   "cell_type": "code",
   "execution_count": null,
   "metadata": {},
   "outputs": [
    {
     "name": "stdout",
     "output_type": "stream",
     "text": [
      "You must install pydot (`pip install pydot`) and install graphviz (see instructions at https://graphviz.gitlab.io/download/) for plot_model/model_to_dot to work.\n"
     ]
    }
   ],
   "source": [
    "keras.utils.plot_model(gen, 'generator_plot.png', show_shapes=True)"
   ]
  },
  {
   "cell_type": "code",
   "execution_count": null,
   "metadata": {},
   "outputs": [
    {
     "name": "stdout",
     "output_type": "stream",
     "text": [
      "You must install pydot (`pip install pydot`) and install graphviz (see instructions at https://graphviz.gitlab.io/download/) for plot_model/model_to_dot to work.\n"
     ]
    }
   ],
   "source": [
    "keras.utils.plot_model(qual_disc, 'quality_discriminator_plot.png', show_shapes=True)"
   ]
  },
  {
   "cell_type": "markdown",
   "metadata": {},
   "source": [
    "# Constants"
   ]
  },
  {
   "cell_type": "code",
   "execution_count": null,
   "metadata": {},
   "outputs": [],
   "source": [
    "EPOCHS = 5\n",
    "BATCH_SIZE = 200\n",
    "POSE_PRIOR = Image.open(\"./test_face.png\") # constant for now\n",
    "POSE_PRIOR = np.asarray(POSE_PRIOR)"
   ]
  },
  {
   "cell_type": "markdown",
   "metadata": {},
   "source": [
    "# Get randomized dataset batch\n",
    "We can't possibly hold everything at once"
   ]
  },
  {
   "cell_type": "code",
   "execution_count": null,
   "metadata": {},
   "outputs": [],
   "source": [
    "def khoas_get_batch(batch_size):\n",
    "    \"\"\"\n",
    "    Khoa's custom function\n",
    "    The real stuff needs the real function\n",
    "    \"\"\"\n",
    "    data_path = './test_data/'\n",
    "\n",
    "    png_list = []\n",
    "    for file in os.listdir(data_path):\n",
    "        if file.endswith('png'):\n",
    "            png_list.append(file)\n",
    "\n",
    "    image_samples = []\n",
    "    gen_input_samples = [] # Specifically to work with Huy's data, should change\n",
    "    audio_samples = []\n",
    "\n",
    "    for img_name in random.sample(png_list, batch_size):\n",
    "        img_name = data_path+img_name\n",
    "        name = img_name[:-4] # name of file without extension\n",
    "        audio_name = name + '.wav'# name of audio file\n",
    "        img = Image.open(img_name)\n",
    "        img_arr = np.asarray(img)\n",
    "        image_samples.append(img_arr//255)\n",
    "\n",
    "        video_name = ''.join([i for i in name if not i.isdigit()])\n",
    "        pose_prior_name = img_name\n",
    "\n",
    "        # randomly choose a pose prior of the same person\n",
    "        while pose_prior_name == img_name:\n",
    "            pose_prior_name = random.choice(glob.glob(video_name+'*.png'))\n",
    "\n",
    "        pose_prior = Image.open(pose_prior_name)\n",
    "        pose_prior = np.asarray(pose_prior)\n",
    "\n",
    "        img_masked = img_arr.copy()\n",
    "        # create a mask\n",
    "        img_masked[256//2:,...] = 0\n",
    "\n",
    "        # concatenate masked ground truth to pose prior\n",
    "        img_concat = np.concatenate([POSE_PRIOR, img_masked], axis=2)\n",
    "        # expected shape (256, 256, 6)\n",
    "        # normalize\n",
    "        gen_input_samples.append(img_concat//255)\n",
    "\n",
    "        audio_samplerate, audio = wav.read(audio_name)\n",
    "        audio_arr = stft(audio, 2 ** 10) # what is this?\n",
    "        audio_samples.append(audio_arr)\n",
    "\n",
    "    image_samples = np.asarray(image_samples)\n",
    "    gen_input_samples = np.asarray(gen_input_samples)\n",
    "    audio_samples = np.asarray(audio_samples)\n",
    "        \n",
    "    # It should go without saying that the order needs to match\n",
    "    return image_samples, gen_input_samples, audio_samples"
   ]
  },
  {
   "cell_type": "markdown",
   "metadata": {},
   "source": [
    "# Define Loss Functions and Optimizers"
   ]
  },
  {
   "cell_type": "code",
   "execution_count": null,
   "metadata": {},
   "outputs": [],
   "source": [
    "quality_discriminator_loss = keras.losses.BinaryCrossentropy(from_logits=True)\n",
    "generator_loss = keras.losses.MeanAbsoluteError() # Also known as L1 reconstruction loss\n",
    "\n",
    "generator_optimizer = tf.keras.optimizers.Adam(1e-3)\n",
    "quality_discriminator_optimizer = tf.keras.optimizers.Adam(1e-3)"
   ]
  },
  {
   "cell_type": "markdown",
   "metadata": {},
   "source": [
    "# Misc"
   ]
  },
  {
   "cell_type": "markdown",
   "metadata": {},
   "source": [
    "# Process generator input data\n",
    "Essentially a reference face (pose prior) concatenated channel-wise with the masked original face"
   ]
  },
  {
   "cell_type": "code",
   "execution_count": null,
   "metadata": {},
   "outputs": [],
   "source": [
    "def process_gen_imgs(images): \n",
    "    \"\"\"\n",
    "    Assumes image is normalized beforehands and is a numpy array with shape (256, 256, 3)\n",
    "    TODO: Random pose prior\n",
    "    \"\"\"\n",
    "    output = []\n",
    "    for img in images:\n",
    "        img_masked = img.copy()\n",
    "        # create a mask\n",
    "        img_masked[256//2:,...] = 0\n",
    "\n",
    "        # concatenate masked ground truth to pose prior\n",
    "        img_concat = np.concatenate([POSE_PRIOR, img_masked], axis=2)\n",
    "        # expected shape (256, 256, 6)\n",
    "        output.append(img_concat)\n",
    "\n",
    "    return output"
   ]
  },
  {
   "cell_type": "code",
   "execution_count": null,
   "metadata": {},
   "outputs": [],
   "source": [
    "@tf.function\n",
    "def train_step(images, gen_imgs, audio_samples):\n",
    "    with tf.GradientTape() as gen_tape, tf.GradientTape() as disc_tape:\n",
    "        generated_images = gen([gen_imgs, audio_samples], training=True)\n",
    "        \n",
    "        real_output = qual_disc(images, training=True)\n",
    "        fake_output = qual_disc(generated_images, training=True)\n",
    "\n",
    "        gen_loss = generator_loss(images, generated_images)\n",
    "        disc_loss = quality_discriminator_loss(real_output, fake_output)\n",
    "\n",
    "        gradients_of_generator =  gen_tape.gradient(gen_loss, gen.trainable_variables)\n",
    "        gradients_of_quality_discriminator = disc_tape.gradient(disc_loss, qual_disc.trainable_variables)\n",
    "\n",
    "        generator_optimizer.apply_gradients(zip(gradients_of_generator, gen.trainable_variables))\n",
    "        quality_discriminator_optimizer.apply_gradients(zip(gradients_of_quality_discriminator, qual_disc.trainable_variables))"
   ]
  },
  {
   "cell_type": "markdown",
   "metadata": {},
   "source": [
    "# Train"
   ]
  },
  {
   "cell_type": "code",
   "execution_count": null,
   "metadata": {},
   "outputs": [],
   "source": [
    "def generate_and_save_images(model, epoch, test_input):\n",
    "  # Notice `training` is set to False.\n",
    "  # This is so all layers run in inference mode (batchnorm).\n",
    "  predictions = model(test_input, training=False)\n",
    "\n",
    "  fig = plt.figure(figsize=(4, 4))\n",
    "\n",
    "  for i in range(predictions.shape[0]):\n",
    "      plt.subplot(4, 4, i+1)\n",
    "      plt.imshow(predictions[i, :, :, :])\n",
    "      plt.axis('off')\n",
    "\n",
    "  plt.savefig(\"./generated_images/image_at_epoch_{:04d}.png\".format(epoch))\n",
    "  plt.show()"
   ]
  },
  {
   "cell_type": "code",
   "execution_count": null,
   "metadata": {},
   "outputs": [],
   "source": [
    "def train_in_batch(batch, epoch):\n",
    "    start = time.time()\n",
    "\n",
    "    train_step(batch[0], batch[1], batch[2])\n",
    "\n",
    "    # Produces images for the GIF\n",
    "    #display.clear_output(wait=True)\n",
    "    print('Time for epoch {} is {} sec. Saving image.'.format(epoch+1, time.time()-start))\n",
    "    generate_and_save_images(gen, epoch + 1, [img_concat, audio_arr]) # Maybe my face?\n",
    "    # if (epoch+1) % 15 == 0:\n",
    "    #     checkpoint.save(file_prefix = checkpoint_prefix)\n",
    "\n",
    "    "
   ]
  },
  {
   "cell_type": "code",
   "execution_count": null,
   "metadata": {},
   "outputs": [
    {
     "name": "stdout",
     "output_type": "stream",
     "text": [
      "Epoch 1 starting\n",
      "Time for epoch 1 is 37.18096876144409 sec. Saving image.\n"
     ]
    },
    {
     "data": {
      "image/png": "[encoded data removed]",
      "text/plain": [
       "<Figure size 400x400 with 1 Axes>"
      ]
     },
     "metadata": {},
     "output_type": "display_data"
    },
    {
     "name": "stdout",
     "output_type": "stream",
     "text": [
      "Epoch 2 starting\n",
      "Time for epoch 2 is 33.958998918533325 sec. Saving image.\n"
     ]
    },
    {
     "data": {
      "image/png": "[encoded data removed]",
      "text/plain": [
       "<Figure size 400x400 with 1 Axes>"
      ]
     },
     "metadata": {},
     "output_type": "display_data"
    },
    {
     "name": "stdout",
     "output_type": "stream",
     "text": [
      "Epoch 3 starting\n",
      "Time for epoch 3 is 33.36356806755066 sec. Saving image.\n"
     ]
    },
    {
     "data": {
      "image/png": "[encoded data removed]",
      "text/plain": [
       "<Figure size 400x400 with 1 Axes>"
      ]
     },
     "metadata": {},
     "output_type": "display_data"
    },
    {
     "name": "stdout",
     "output_type": "stream",
     "text": [
      "Epoch 4 starting\n",
      "Time for epoch 4 is 35.685534715652466 sec. Saving image.\n"
     ]
    },
    {
     "data": {
      "image/png": "[encoded data removed]",
      "text/plain": [
       "<Figure size 400x400 with 1 Axes>"
      ]
     },
     "metadata": {},
     "output_type": "display_data"
    },
    {
     "name": "stdout",
     "output_type": "stream",
     "text": [
      "Epoch 5 starting\n",
      "Time for epoch 5 is 34.097559452056885 sec. Saving image.\n"
     ]
    },
    {
     "data": {
      "image/png": "[encoded data removed]",
      "text/plain": [
       "<Figure size 400x400 with 1 Axes>"
      ]
     },
     "metadata": {},
     "output_type": "display_data"
    },
    {
     "data": {
      "image/png": "[encoded data removed]",
      "text/plain": [
       "<Figure size 400x400 with 1 Axes>"
      ]
     },
     "metadata": {},
     "output_type": "display_data"
    }
   ],
   "source": [
    "for epoch in range(EPOCHS):\n",
    "    print(\"Epoch {} starting\".format(epoch+1))\n",
    "    batch = khoas_get_batch(BATCH_SIZE)\n",
    "    train_in_batch(batch, epoch)\n",
    "\n",
    "#display.clear_output(wait=True)\n",
    "generate_and_save_images(gen, 100, [img_concat, audio_arr])"
   ]
  },
  {
   "cell_type": "markdown",
   "metadata": {},
   "source": [
    "# Demo"
   ]
  },
  {
   "cell_type": "markdown",
   "metadata": {},
   "source": []
  }
 ],
 "metadata": {
  "kernelspec": {
   "display_name": "Python 3",
   "language": "python",
   "name": "python3"
  },
  "language_info": {
   "codemirror_mode": {
    "name": "ipython",
    "version": 3
   },
   "file_extension": ".py",
   "mimetype": "text/x-python",
   "name": "python",
   "nbconvert_exporter": "python",
   "pygments_lexer": "ipython3",
   "version": "3.8.5 (tags/v3.8.5:580fbb0, Jul 20 2020, 15:57:54) [MSC v.1924 64 bit (AMD64)]"
  },
  "orig_nbformat": 4,
  "vscode": {
   "interpreter": {
    "hash": "8d79ec42fb35cba35d7fef45dc6d9728b589ffddb4e75d589282cff85f785aa9"
   }
  }
 },
 "nbformat": 4,
 "nbformat_minor": 2
}
