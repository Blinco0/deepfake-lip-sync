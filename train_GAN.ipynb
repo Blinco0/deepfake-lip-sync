{
 "cells": [
  {
   "cell_type": "markdown",
   "metadata": {},
   "source": [
    "# Imports"
   ]
  },
  {
   "cell_type": "code",
   "execution_count": 1,
   "metadata": {},
   "outputs": [
    {
     "name": "stderr",
     "output_type": "stream",
     "text": [
      "WARNING: CPU random generator seem to be failing, disabling hardware random number generation\n",
      "WARNING: RDRND generated: 0xffffffff 0xffffffff 0xffffffff 0xffffffff\n",
      "2023-02-22 17:53:42.631070: I tensorflow/core/platform/cpu_feature_guard.cc:193] This TensorFlow binary is optimized with oneAPI Deep Neural Network Library (oneDNN) to use the following CPU instructions in performance-critical operations:  AVX2 FMA\n",
      "To enable them in other operations, rebuild TensorFlow with the appropriate compiler flags.\n",
      "2023-02-22 17:53:43.900945: W tensorflow/compiler/xla/stream_executor/platform/default/dso_loader.cc:64] Could not load dynamic library 'libnvinfer.so.7'; dlerror: libnvinfer.so.7: cannot open shared object file: No such file or directory; LD_LIBRARY_PATH: /home/khoa/.local/lib/python3.10/site-packages/cv2/../../lib64:/usr/local/cuda-11/lib64:\n",
      "2023-02-22 17:53:43.901013: W tensorflow/compiler/xla/stream_executor/platform/default/dso_loader.cc:64] Could not load dynamic library 'libnvinfer_plugin.so.7'; dlerror: libnvinfer_plugin.so.7: cannot open shared object file: No such file or directory; LD_LIBRARY_PATH: /home/khoa/.local/lib/python3.10/site-packages/cv2/../../lib64:/usr/local/cuda-11/lib64:\n",
      "2023-02-22 17:53:43.901018: W tensorflow/compiler/tf2tensorrt/utils/py_utils.cc:38] TF-TRT Warning: Cannot dlopen some TensorRT libraries. If you would like to use Nvidia GPU with TensorRT, please make sure the missing libraries mentioned above are installed properly.\n"
     ]
    }
   ],
   "source": [
    "import numpy as np # linear algebra\n",
    "import pandas as pd # data processing, CSV file I/O (e.g. pd.read_csv)\n",
    "import cv2\n",
    "import matplotlib.pyplot as plt\n",
    "import pathlib\n",
    "import tensorflow as tf\n",
    "from tensorflow import keras\n",
    "import os\n",
    "import time\n",
    "import random\n",
    "import glob # Khoa's stuff\n",
    "from IPython import display\n",
    "from tqdm import tqdm # for training progress\n",
    "import wave\n",
    "import json\n",
    "\n",
    "# Utilities\n",
    "import scipy.io.wavfile as wav\n",
    "from utils.audio_spectrogram import stft_np as stft\n",
    "from utils.img_processing import mask_image\n",
    "from PIL import Image\n",
    "\n",
    "# Models\n",
    "from models.deepfake_generator import combined_generator, generator # Generator is only for plotting\n",
    "from models.visual_quality_discriminator import quality_discriminator"
   ]
  },
  {
   "cell_type": "markdown",
   "metadata": {},
   "source": [
    "# Constants"
   ]
  },
  {
   "cell_type": "code",
   "execution_count": 2,
   "metadata": {},
   "outputs": [],
   "source": [
    "EPOCHS = 10000\n",
    "BATCH_SIZE = 100"
   ]
  },
  {
   "cell_type": "markdown",
   "metadata": {},
   "source": [
    "# Load Batch Data\n",
    "Takes up 100 MB in RAM at least"
   ]
  },
  {
   "cell_type": "code",
   "execution_count": 3,
   "metadata": {},
   "outputs": [
    {
     "name": "stdout",
     "output_type": "stream",
     "text": [
      "[['/media/khoa/WD SSD/dataset/train/real/REAL_tygaurfrgm_53', '/media/khoa/WD SSD/dataset/train/real/REAL_tygaurfrgm_3'], ['/media/khoa/WD SSD/dataset/train/real/REAL_kerpokjmkf_102', '/media/khoa/WD SSD/dataset/train/real/REAL_kerpokjmkf_150'], ['/media/khoa/WD SSD/dataset/train/real/REAL_kqlvggiqee_77', '/media/khoa/WD SSD/dataset/train/real/REAL_kqlvggiqee_33'], ['/media/khoa/WD SSD/dataset/train/real/REAL_nioqtolubb_110', '/media/khoa/WD SSD/dataset/train/real/REAL_nioqtolubb_83'], ['/media/khoa/WD SSD/dataset/train/real/REAL_inxvgjgrrq_111', '/media/khoa/WD SSD/dataset/train/real/REAL_inxvgjgrrq_206'], ['/media/khoa/WD SSD/dataset/train/real/REAL_ighgptshjh_130', '/media/khoa/WD SSD/dataset/train/real/REAL_ighgptshjh_150'], ['/media/khoa/WD SSD/dataset/train/real/REAL_qkaafsvwxs_178', '/media/khoa/WD SSD/dataset/train/real/REAL_qkaafsvwxs_21'], ['/media/khoa/WD SSD/dataset/train/real/REAL_fqeunoxwux_41', '/media/khoa/WD SSD/dataset/train/real/REAL_fqeunoxwux_240'], ['/media/khoa/WD SSD/dataset/train/real/REAL_jnfuqvhdii_116', '/media/khoa/WD SSD/dataset/train/real/REAL_jnfuqvhdii_7'], ['/media/khoa/WD SSD/dataset/train/real/REAL_fufcmupzen_65', '/media/khoa/WD SSD/dataset/train/real/REAL_fufcmupzen_162'], ['/media/khoa/WD SSD/dataset/train/real/REAL_ncmpqwmnzb_198', '/media/khoa/WD SSD/dataset/train/real/REAL_ncmpqwmnzb_55'], ['/media/khoa/WD SSD/dataset/train/real/REAL_hrhsdsowvo_72', '/media/khoa/WD SSD/dataset/train/real/REAL_hrhsdsowvo_20'], ['/media/khoa/WD SSD/dataset/train/real/REAL_npbymrlgis_249', '/media/khoa/WD SSD/dataset/train/real/REAL_npbymrlgis_19'], ['/media/khoa/WD SSD/dataset/train/real/REAL_nnnfaivpcm_124', '/media/khoa/WD SSD/dataset/train/real/REAL_nnnfaivpcm_252'], ['/media/khoa/WD SSD/dataset/train/real/REAL_zwmshsdehm_250', '/media/khoa/WD SSD/dataset/train/real/REAL_zwmshsdehm_19'], ['/media/khoa/WD SSD/dataset/train/real/REAL_albqnixkfe_62', '/media/khoa/WD SSD/dataset/train/real/REAL_albqnixkfe_248'], ['/media/khoa/WD SSD/dataset/train/real/REAL_gboyvifuol_169', '/media/khoa/WD SSD/dataset/train/real/REAL_gboyvifuol_176'], ['/media/khoa/WD SSD/dataset/train/real/REAL_klisuzrptl_42', '/media/khoa/WD SSD/dataset/train/real/REAL_klisuzrptl_29'], ['/media/khoa/WD SSD/dataset/train/real/REAL_nbvxpduknx_41', '/media/khoa/WD SSD/dataset/train/real/REAL_nbvxpduknx_8'], ['/media/khoa/WD SSD/dataset/train/real/REAL_nralzvqicb_86', '/media/khoa/WD SSD/dataset/train/real/REAL_nralzvqicb_74'], ['/media/khoa/WD SSD/dataset/train/real/REAL_xhrvrdvpqp_126', '/media/khoa/WD SSD/dataset/train/real/REAL_xhrvrdvpqp_260'], ['/media/khoa/WD SSD/dataset/train/real/REAL_ooqslezzaz_103', '/media/khoa/WD SSD/dataset/train/real/REAL_ooqslezzaz_2'], ['/media/khoa/WD SSD/dataset/train/real/REAL_elzyaxzkbw_240', '/media/khoa/WD SSD/dataset/train/real/REAL_elzyaxzkbw_19'], ['/media/khoa/WD SSD/dataset/train/real/REAL_qtsywumldu_178', '/media/khoa/WD SSD/dataset/train/real/REAL_qtsywumldu_268'], ['/media/khoa/WD SSD/dataset/train/real/REAL_crbijnlhbx_225', '/media/khoa/WD SSD/dataset/train/real/REAL_crbijnlhbx_238'], ['/media/khoa/WD SSD/dataset/train/real/REAL_msrkuohcqx_50', '/media/khoa/WD SSD/dataset/train/real/REAL_msrkuohcqx_238'], ['/media/khoa/WD SSD/dataset/train/real/REAL_phtwqvezao_40', '/media/khoa/WD SSD/dataset/train/real/REAL_phtwqvezao_276'], ['/media/khoa/WD SSD/dataset/train/real/REAL_ophlmdjitq_33', '/media/khoa/WD SSD/dataset/train/real/REAL_ophlmdjitq_183'], ['/media/khoa/WD SSD/dataset/train/real/REAL_lwmufxrefm_207', '/media/khoa/WD SSD/dataset/train/real/REAL_lwmufxrefm_51'], ['/media/khoa/WD SSD/dataset/train/real/REAL_sujafsfzdc_200', '/media/khoa/WD SSD/dataset/train/real/REAL_sujafsfzdc_60'], ['/media/khoa/WD SSD/dataset/train/real/REAL_qsffbtclsl_34', '/media/khoa/WD SSD/dataset/train/real/REAL_qsffbtclsl_254'], ['/media/khoa/WD SSD/dataset/train/real/REAL_lirjslerep_271', '/media/khoa/WD SSD/dataset/train/real/REAL_lirjslerep_124'], ['/media/khoa/WD SSD/dataset/train/real/REAL_rxdoimqble_32', '/media/khoa/WD SSD/dataset/train/real/REAL_rxdoimqble_28'], ['/media/khoa/WD SSD/dataset/train/real/REAL_gyjsfnrebs_135', '/media/khoa/WD SSD/dataset/train/real/REAL_gyjsfnrebs_241'], ['/media/khoa/WD SSD/dataset/train/real/REAL_xvkwijqxvg_30', '/media/khoa/WD SSD/dataset/train/real/REAL_xvkwijqxvg_47'], ['/media/khoa/WD SSD/dataset/train/real/REAL_cfxrrjyzpy_225', '/media/khoa/WD SSD/dataset/train/real/REAL_cfxrrjyzpy_37'], ['/media/khoa/WD SSD/dataset/train/real/REAL_xrxzalqmrz_167', '/media/khoa/WD SSD/dataset/train/real/REAL_xrxzalqmrz_187'], ['/media/khoa/WD SSD/dataset/train/real/REAL_whixmoazmk_144', '/media/khoa/WD SSD/dataset/train/real/REAL_whixmoazmk_291'], ['/media/khoa/WD SSD/dataset/train/real/REAL_mnrnptdpec_257', '/media/khoa/WD SSD/dataset/train/real/REAL_mnrnptdpec_28'], ['/media/khoa/WD SSD/dataset/train/real/REAL_wyenndmypq_16', '/media/khoa/WD SSD/dataset/train/real/REAL_wyenndmypq_144'], ['/media/khoa/WD SSD/dataset/train/real/REAL_lttgkdulfy_135', '/media/khoa/WD SSD/dataset/train/real/REAL_lttgkdulfy_109'], ['/media/khoa/WD SSD/dataset/train/real/REAL_uzhadpdyti_294', '/media/khoa/WD SSD/dataset/train/real/REAL_uzhadpdyti_291'], ['/media/khoa/WD SSD/dataset/train/real/REAL_przmougwsm_98', '/media/khoa/WD SSD/dataset/train/real/REAL_przmougwsm_45'], ['/media/khoa/WD SSD/dataset/train/real/REAL_gbawfojktc_197', '/media/khoa/WD SSD/dataset/train/real/REAL_gbawfojktc_182'], ['/media/khoa/WD SSD/dataset/train/real/REAL_uclaifhwxb_140', '/media/khoa/WD SSD/dataset/train/real/REAL_uclaifhwxb_182'], ['/media/khoa/WD SSD/dataset/train/real/REAL_wdtnlcsmky_107', '/media/khoa/WD SSD/dataset/train/real/REAL_wdtnlcsmky_190'], ['/media/khoa/WD SSD/dataset/train/real/REAL_soiiwyzmfe_128', '/media/khoa/WD SSD/dataset/train/real/REAL_soiiwyzmfe_241'], ['/media/khoa/WD SSD/dataset/train/real/REAL_pwqigiztxg_229', '/media/khoa/WD SSD/dataset/train/real/REAL_pwqigiztxg_159'], ['/media/khoa/WD SSD/dataset/train/real/REAL_pgioqqehjk_219', '/media/khoa/WD SSD/dataset/train/real/REAL_pgioqqehjk_133'], ['/media/khoa/WD SSD/dataset/train/real/REAL_eciygjkaco_56', '/media/khoa/WD SSD/dataset/train/real/REAL_eciygjkaco_243'], ['/media/khoa/WD SSD/dataset/train/real/REAL_tomunwedej_27', '/media/khoa/WD SSD/dataset/train/real/REAL_tomunwedej_100'], ['/media/khoa/WD SSD/dataset/train/real/REAL_imjfunevrp_9', '/media/khoa/WD SSD/dataset/train/real/REAL_imjfunevrp_131'], ['/media/khoa/WD SSD/dataset/train/real/REAL_dkntaifhkt_262', '/media/khoa/WD SSD/dataset/train/real/REAL_dkntaifhkt_170'], ['/media/khoa/WD SSD/dataset/train/real/REAL_naaknmkpxz_285', '/media/khoa/WD SSD/dataset/train/real/REAL_naaknmkpxz_297'], ['/media/khoa/WD SSD/dataset/train/real/REAL_xjhdzhgkno_195', '/media/khoa/WD SSD/dataset/train/real/REAL_xjhdzhgkno_144'], ['/media/khoa/WD SSD/dataset/train/real/REAL_ngzpwtfunv_276', '/media/khoa/WD SSD/dataset/train/real/REAL_ngzpwtfunv_115'], ['/media/khoa/WD SSD/dataset/train/real/REAL_yjqxutyyvi_75', '/media/khoa/WD SSD/dataset/train/real/REAL_yjqxutyyvi_30'], ['/media/khoa/WD SSD/dataset/train/real/REAL_wqewxnshij_17', '/media/khoa/WD SSD/dataset/train/real/REAL_wqewxnshij_134'], ['/media/khoa/WD SSD/dataset/train/real/REAL_hozcwxyrrz_274', '/media/khoa/WD SSD/dataset/train/real/REAL_hozcwxyrrz_238'], ['/media/khoa/WD SSD/dataset/train/real/REAL_ndpdopglxk_103', '/media/khoa/WD SSD/dataset/train/real/REAL_ndpdopglxk_149'], ['/media/khoa/WD SSD/dataset/train/real/REAL_vcxpzapfhm_57', '/media/khoa/WD SSD/dataset/train/real/REAL_vcxpzapfhm_0'], ['/media/khoa/WD SSD/dataset/train/real/REAL_mxxwxzeqib_94', '/media/khoa/WD SSD/dataset/train/real/REAL_mxxwxzeqib_211'], ['/media/khoa/WD SSD/dataset/train/real/REAL_exxqlfpnbz_176', '/media/khoa/WD SSD/dataset/train/real/REAL_exxqlfpnbz_11'], ['/media/khoa/WD SSD/dataset/train/real/REAL_jdkhocvaql_99', '/media/khoa/WD SSD/dataset/train/real/REAL_jdkhocvaql_102'], ['/media/khoa/WD SSD/dataset/train/real/REAL_czhkwernpi_256', '/media/khoa/WD SSD/dataset/train/real/REAL_czhkwernpi_85'], ['/media/khoa/WD SSD/dataset/train/real/REAL_lpffmsefdm_236', '/media/khoa/WD SSD/dataset/train/real/REAL_lpffmsefdm_3'], ['/media/khoa/WD SSD/dataset/train/real/REAL_nywoptxkwu_51', '/media/khoa/WD SSD/dataset/train/real/REAL_nywoptxkwu_9'], ['/media/khoa/WD SSD/dataset/train/real/REAL_zuwdseapsx_286', '/media/khoa/WD SSD/dataset/train/real/REAL_zuwdseapsx_203'], ['/media/khoa/WD SSD/dataset/train/real/REAL_rtcnwhskkw_93', '/media/khoa/WD SSD/dataset/train/real/REAL_rtcnwhskkw_114'], ['/media/khoa/WD SSD/dataset/train/real/REAL_ndpytliklg_161', '/media/khoa/WD SSD/dataset/train/real/REAL_ndpytliklg_191'], ['/media/khoa/WD SSD/dataset/train/real/REAL_lmgbrxnyjk_33', '/media/khoa/WD SSD/dataset/train/real/REAL_lmgbrxnyjk_14'], ['/media/khoa/WD SSD/dataset/train/real/REAL_snrblxwbtr_4', '/media/khoa/WD SSD/dataset/train/real/REAL_snrblxwbtr_200'], ['/media/khoa/WD SSD/dataset/train/real/REAL_bototlyqgs_148', '/media/khoa/WD SSD/dataset/train/real/REAL_bototlyqgs_145'], ['/media/khoa/WD SSD/dataset/train/real/REAL_ebxruufffq_275', '/media/khoa/WD SSD/dataset/train/real/REAL_ebxruufffq_10'], ['/media/khoa/WD SSD/dataset/train/real/REAL_qgfztfdjeo_18', '/media/khoa/WD SSD/dataset/train/real/REAL_qgfztfdjeo_30'], ['/media/khoa/WD SSD/dataset/train/real/REAL_iwthiaarpj_145', '/media/khoa/WD SSD/dataset/train/real/REAL_iwthiaarpj_177'], ['/media/khoa/WD SSD/dataset/train/real/REAL_tebhyvrvrf_281', '/media/khoa/WD SSD/dataset/train/real/REAL_tebhyvrvrf_59'], ['/media/khoa/WD SSD/dataset/train/real/REAL_hierggamuo_103', '/media/khoa/WD SSD/dataset/train/real/REAL_hierggamuo_208'], ['/media/khoa/WD SSD/dataset/train/real/REAL_hgqpzhkoua_106', '/media/khoa/WD SSD/dataset/train/real/REAL_hgqpzhkoua_190'], ['/media/khoa/WD SSD/dataset/train/real/REAL_bototlyqgs_276', '/media/khoa/WD SSD/dataset/train/real/REAL_bototlyqgs_135'], ['/media/khoa/WD SSD/dataset/train/real/REAL_bfajruognp_1', '/media/khoa/WD SSD/dataset/train/real/REAL_bfajruognp_179'], ['/media/khoa/WD SSD/dataset/train/real/REAL_hmprmylinu_276', '/media/khoa/WD SSD/dataset/train/real/REAL_hmprmylinu_213'], ['/media/khoa/WD SSD/dataset/train/real/REAL_ygxwrhaese_242', '/media/khoa/WD SSD/dataset/train/real/REAL_ygxwrhaese_256'], ['/media/khoa/WD SSD/dataset/train/real/REAL_bzdztgsroy_45', '/media/khoa/WD SSD/dataset/train/real/REAL_bzdztgsroy_44'], ['/media/khoa/WD SSD/dataset/train/real/REAL_kxvowszzuo_208', '/media/khoa/WD SSD/dataset/train/real/REAL_kxvowszzuo_270'], ['/media/khoa/WD SSD/dataset/train/real/REAL_pnwjdpjlup_223', '/media/khoa/WD SSD/dataset/train/real/REAL_pnwjdpjlup_33'], ['/media/khoa/WD SSD/dataset/train/real/REAL_apobfcukea_144', '/media/khoa/WD SSD/dataset/train/real/REAL_apobfcukea_121'], ['/media/khoa/WD SSD/dataset/train/real/REAL_qchlvnlvbq_165', '/media/khoa/WD SSD/dataset/train/real/REAL_qchlvnlvbq_64'], ['/media/khoa/WD SSD/dataset/train/real/REAL_bvgkmaupxn_38', '/media/khoa/WD SSD/dataset/train/real/REAL_bvgkmaupxn_123'], ['/media/khoa/WD SSD/dataset/train/real/REAL_ejmpycnatt_285', '/media/khoa/WD SSD/dataset/train/real/REAL_ejmpycnatt_65'], ['/media/khoa/WD SSD/dataset/train/real/REAL_ejvzniiwbq_21', '/media/khoa/WD SSD/dataset/train/real/REAL_ejvzniiwbq_171'], ['/media/khoa/WD SSD/dataset/train/real/REAL_uklcztomai_2', '/media/khoa/WD SSD/dataset/train/real/REAL_uklcztomai_28'], ['/media/khoa/WD SSD/dataset/train/real/REAL_ieuxohfweg_84', '/media/khoa/WD SSD/dataset/train/real/REAL_ieuxohfweg_29'], ['/media/khoa/WD SSD/dataset/train/real/REAL_sxfxmigcjk_62', '/media/khoa/WD SSD/dataset/train/real/REAL_sxfxmigcjk_129'], ['/media/khoa/WD SSD/dataset/train/real/REAL_gykhpbgjvt_232', '/media/khoa/WD SSD/dataset/train/real/REAL_gykhpbgjvt_215'], ['/media/khoa/WD SSD/dataset/train/real/REAL_zwswwwrefl_22', '/media/khoa/WD SSD/dataset/train/real/REAL_zwswwwrefl_26'], ['/media/khoa/WD SSD/dataset/train/real/REAL_ddyrkertzf_269', '/media/khoa/WD SSD/dataset/train/real/REAL_ddyrkertzf_246'], ['/media/khoa/WD SSD/dataset/train/real/REAL_lacysohmqs_53', '/media/khoa/WD SSD/dataset/train/real/REAL_lacysohmqs_46'], ['/media/khoa/WD SSD/dataset/train/real/REAL_ueytxdmdpn_7', '/media/khoa/WD SSD/dataset/train/real/REAL_ueytxdmdpn_70'], ['/media/khoa/WD SSD/dataset/train/real/REAL_okwgsisgwn_82', '/media/khoa/WD SSD/dataset/train/real/REAL_okwgsisgwn_13']]\n"
     ]
    }
   ],
   "source": [
    "BATCH_DATA = {}\n",
    "with open('batch_data/batches.json', 'r') as f:\n",
    "    BATCH_DATA = json.load(f)\n",
    "\n",
    "assert len(BATCH_DATA) == EPOCHS, print(\"{} epochs worth of data is required. Provided batch file only has {}\".format(EPOCHS, len(BATCH_DATA)))\n",
    "print(BATCH_DATA[\"0\"])"
   ]
  },
  {
   "cell_type": "markdown",
   "metadata": {},
   "source": [
    "# Get randomized dataset batch\n",
    "We can't possibly hold everything at once"
   ]
  },
  {
   "cell_type": "code",
   "execution_count": 4,
   "metadata": {},
   "outputs": [],
   "source": [
    "def random_get_batch(batch_size, seed=0):\n",
    "    \"\"\"\n",
    "    Khoa's custom function\n",
    "    The real stuff needs the real function\n",
    "    \"\"\"\n",
    "    random.seed(seed)\n",
    "\n",
    "    data_path = '/media/khoa/WD SSD/dataset/train/real/'\n",
    "\n",
    "    # Go through datapath, append every png file to the png list.\n",
    "    png_list = []\n",
    "    for file in os.listdir(data_path):\n",
    "        if file.endswith('png'):\n",
    "            png_list.append(file)\n",
    "\n",
    "    image_samples = []\n",
    "    gen_input_samples = [] # Specifically to work with Huy's data, should change\n",
    "    audio_samples = []\n",
    "    print(\"Choosing random data batch\")\n",
    "    batch = random.sample(png_list, batch_size)\n",
    "    print(\"Batch chosen, processing\")\n",
    "    # Go through a list of batch-size elements chosen randomly from png_list\n",
    "    task = tqdm(total=len(batch*5), position=0)\n",
    "    for img_name in batch:\n",
    "        img_name = data_path + img_name\n",
    "        name = img_name[:-4] # name of file without extension\n",
    "        audio_name = name + '.wav'# name of audio file\n",
    "        # TODO duct-tape solution, figure out how to remove it from dataset\n",
    "        samplerate, samples = wav.read(audio_name)\n",
    "        if len(samples) < 1450:\n",
    "            continue\n",
    "\n",
    "        img = Image.open(img_name)\n",
    "        # Convert image to numpy array of 3 dimensions\n",
    "        img_arr = np.asarray(img)\n",
    "    \n",
    "        name_no_digit = ''.join([i for i in name if not i.isdigit()])  # PNG name is sth like REAL_aerzetktyh_0. name_no_digit will be sth like REAL_aerzetktyh\n",
    "        pose_prior_name = img_name\n",
    "\n",
    "\n",
    "        count = 0\n",
    "        # randomly choose a pose prior of the same person\n",
    "        while pose_prior_name == img_name and count < 100:\n",
    "            count+=1\n",
    "            pose_prior_name = random.choice(glob.glob(name_no_digit+'*.png')) # So if we choose sth like REAL_aerzetkyh_0.png as input to feed in, the reference image\n",
    "                                                                           # would be sth like REAL_aerzetkyh_67.png\n",
    "\n",
    "        if count == 100: # No possible pose-prior found\n",
    "            continue\n",
    "        \n",
    "        # Only append the image if a pose-prior can be found\n",
    "        image_samples.append(img_arr / 255)  #  Normalization of image\n",
    "        task.update()\n",
    "\n",
    "        pose_prior = Image.open(pose_prior_name)  # Post_prior is just the reference image in the same video as the one we're going to feed to the generator\n",
    "        pose_prior = np.asarray(pose_prior)\n",
    "        pose_prior = pose_prior / 255\n",
    "        task.update()\n",
    "\n",
    "        # img_masked = img_arr.copy()\n",
    "        # create a mask  Crop out the lower part of the image.\n",
    "        # img_masked[256//2:,...] = 0  \n",
    "        img_masked = mask_image(img_name)\n",
    "        img_masked = img_masked / 255\n",
    "        task.update()\n",
    "\n",
    "        # concatenate masked ground truth to pose prior\n",
    "        img_concat = np.concatenate([pose_prior, img_masked], axis=2)\n",
    "        # expected shape (256, 256, 6)\n",
    "        gen_input_samples.append(img_concat)\n",
    "        task.update()\n",
    "        \n",
    "        audio_arr = stft(audio_name, 2 ** 10) # Generate the spectrogram out of audio segment.\n",
    "        \n",
    "        audio_samples.append(audio_arr)\n",
    "        task.update()\n",
    "    print(\"Batch processed\")\n",
    "    image_samples = np.asarray(image_samples).astype('float32')\n",
    "    gen_input_samples = np.asarray(gen_input_samples).astype('float32')\n",
    "    audio_samples = np.asarray(audio_samples)\n",
    "    print(\"Batch converted to numpy arrays. Returning\")\n",
    "        \n",
    "    # It should go without saying that the order needs to match\n",
    "    return image_samples, gen_input_samples, audio_samples"
   ]
  },
  {
   "cell_type": "code",
   "execution_count": 5,
   "metadata": {},
   "outputs": [],
   "source": [
    "def get_batch(epoch):\n",
    "    \"\"\"\n",
    "    Proper get_batch function.\n",
    "    Requires a batches.json file to get here\n",
    "    \"\"\"\n",
    "\n",
    "    image_samples = []\n",
    "    gen_input_samples = [] # Specifically to work with Huy's data, should change\n",
    "    audio_samples = []\n",
    "\n",
    "    print(\"Getting pre-determined data batch\")\n",
    "    batch = BATCH_DATA[str(epoch)]\n",
    "\n",
    "    print(\"Batch chosen, processing\")\n",
    "    # Go through a list of batch-size elements chosen randomly from png_list\n",
    "    task = tqdm(total=len(batch*5), position=0)\n",
    "    for names in batch:\n",
    "        img_name, pose_prior_name = names\n",
    "\n",
    "        audio_name = img_name + '.wav'# name of audio file\n",
    "        img_name = img_name + '.png'\n",
    "        pose_prior_name = pose_prior_name + '.png'\n",
    "        \n",
    "        # TODO duct-tape solution, figure out how to remove it from dataset\n",
    "        samplerate, samples = wav.read(audio_name)\n",
    "        if len(samples) < 1450:\n",
    "            continue\n",
    "\n",
    "        img = Image.open(img_name)\n",
    "        # Convert image to numpy array of 3 dimensions\n",
    "        img_arr = np.asarray(img)\n",
    "        \n",
    "        # Only append the image if a pose-prior can be found\n",
    "        image_samples.append(img_arr / 255)  #  Normalization of image\n",
    "        task.update()\n",
    "\n",
    "        pose_prior = Image.open(pose_prior_name)  # Post_prior is just the reference image in the same video as the one we're going to feed to the generator\n",
    "        pose_prior = np.asarray(pose_prior)\n",
    "        pose_prior = pose_prior / 255\n",
    "        task.update()\n",
    "\n",
    "        # img_masked = img_arr.copy()\n",
    "        # create a mask  Crop out the lower part of the image.\n",
    "        # img_masked[256//2:,...] = 0  \n",
    "        img_masked = mask_image(img_name)\n",
    "        img_masked = img_masked / 255\n",
    "        task.update()\n",
    "\n",
    "        # concatenate masked ground truth to pose prior\n",
    "        img_concat = np.concatenate([pose_prior, img_masked], axis=2)\n",
    "        # expected shape (256, 256, 6)\n",
    "        gen_input_samples.append(img_concat)\n",
    "        task.update()\n",
    "        \n",
    "        audio_arr = stft(audio_name, 2 ** 10) # Generate the spectrogram out of audio segment.\n",
    "        \n",
    "        audio_samples.append(audio_arr)\n",
    "        task.update()\n",
    "    print(\"Batch processed\")\n",
    "    image_samples = np.asarray(image_samples).astype('float32')\n",
    "    gen_input_samples = np.asarray(gen_input_samples).astype('float32')\n",
    "    audio_samples = np.asarray(audio_samples)\n",
    "    print(\"Batch converted to numpy arrays. Returning\")\n",
    "        \n",
    "    # It should go without saying that the order needs to match\n",
    "    return image_samples, gen_input_samples, audio_samples"
   ]
  },
  {
   "cell_type": "code",
   "execution_count": 6,
   "metadata": {},
   "outputs": [],
   "source": [
    "def generate_and_save_images(model, epoch, original_images, gen_imgs, audio_samples, save=True):\n",
    "  # Notice `training` is set to False.\n",
    "  # This is so all layers run in inference mode (batchnorm).\n",
    "  predictions, d = model([gen_imgs, audio_samples])\n",
    "\n",
    "  print(\"Mean Absolute Difference {}\".format(np.mean(np.absolute(predictions[1]-predictions[0]))))\n",
    "  print(d)\n",
    "\n",
    "  fig = plt.figure(figsize=(2, 2))\n",
    "\n",
    "  for i in range(predictions.shape[0]):\n",
    "      plt.subplot(2, 2, i+1)\n",
    "      plt.imshow(predictions[i])\n",
    "      plt.axis('off')\n",
    "\n",
    "      plt.subplot(2, 2, i+3)\n",
    "      plt.imshow(original_images[i])\n",
    "      plt.axis('off')\n",
    "  \n",
    "  if save:\n",
    "    plt.savefig(\"./generated_images/image_at_epoch_{:04d}.png\".format(epoch))\n",
    "  plt.show()"
   ]
  },
  {
   "cell_type": "markdown",
   "metadata": {},
   "source": [
    "# Test models"
   ]
  },
  {
   "cell_type": "code",
   "execution_count": 8,
   "metadata": {},
   "outputs": [
    {
     "name": "stdout",
     "output_type": "stream",
     "text": [
      "Choosing random data batch\n",
      "Batch chosen, processing\n"
     ]
    },
    {
     "name": "stderr",
     "output_type": "stream",
     "text": [
      "100%|██████████| 10/10 [00:01<00:00,  6.15it/s]\n"
     ]
    },
    {
     "name": "stdout",
     "output_type": "stream",
     "text": [
      "Batch processed\n",
      "Batch converted to numpy arrays. Returning\n",
      "(2, 256, 256, 6)\n",
      "Mean Absolute Difference 0.0003105650539509952\n",
      "tf.Tensor(\n",
      "[[0.5021755 ]\n",
      " [0.50217336]], shape=(2, 1), dtype=float32)\n"
     ]
    },
    {
     "data": {
      "image/png": "[encoded data removed]",
      "text/plain": [
       "<Figure size 200x200 with 4 Axes>"
      ]
     },
     "metadata": {},
     "output_type": "display_data"
    }
   ],
   "source": [
    "test_img_arrs, test_img_concats, test_audio_arrs = random_get_batch(2, 1)\n",
    "print(test_img_concats.shape)\n",
    "# Define models\n",
    "qual_disc = quality_discriminator()\n",
    "gen = combined_generator(qual_disc)\n",
    "\n",
    "\n",
    "generated_img, con_loss = gen([test_img_concats, test_audio_arrs])\n",
    "\n",
    "generate_and_save_images(gen, 0, test_img_arrs, test_img_concats, test_audio_arrs)\n"
   ]
  },
  {
   "cell_type": "markdown",
   "metadata": {},
   "source": [
    "# Plot Models"
   ]
  },
  {
   "cell_type": "code",
   "execution_count": 9,
   "metadata": {},
   "outputs": [],
   "source": [
    "# gen_plot = generator()\n",
    "# keras.utils.plot_model(gen_plot, \"generator_plot.png\", show_shapes=True)"
   ]
  },
  {
   "cell_type": "markdown",
   "metadata": {},
   "source": [
    "# Define Loss Functions and Optimizers"
   ]
  },
  {
   "cell_type": "code",
   "execution_count": 10,
   "metadata": {},
   "outputs": [],
   "source": [
    "# quality_discriminator_loss = keras.losses.BinaryCrossentropy(from_logits=True)\n",
    "# generator_loss = keras.losses.MeanAbsoluteError() # Also known as L1 reconstruction loss\n",
    "\n",
    "# generator_optimizer = tf.keras.optimizers.Adam(1e-3)\n",
    "# quality_discriminator_optimizer = tf.keras.optimizers.Adam(1e-3)"
   ]
  },
  {
   "cell_type": "markdown",
   "metadata": {},
   "source": [
    "# Define Training Step"
   ]
  },
  {
   "cell_type": "code",
   "execution_count": 11,
   "metadata": {},
   "outputs": [],
   "source": [
    "# gen_loss_prog = keras.utils.Progbar(None, unit_name='generator_loss')\n",
    "# disc_loss_prog = keras.utils.Progbar(None, unit_name='quality_discriminator_loss')\n",
    "# disc_real_loss_prog = keras.utils.Progbar(None, unit_name='quality_discriminator_real_loss')\n",
    "# @tf.function()\n",
    "def train_step(images, gen_imgs, audio_samples):\n",
    "    disc_loss, real_loss, gen_loss = 0., 0., 0.\n",
    "    #with tf.GradientTape() as gen_tape, tf.GradientTape() as disc_tape:\n",
    "    real = np.zeros((len(images), 1))\n",
    "    fake = np.ones((len(images), 1))\n",
    "\n",
    "    generated_images, gd_loss = gen([gen_imgs, audio_samples])\n",
    "    \n",
    "    # train discriminator\n",
    "    disc_loss = qual_disc.train_on_batch(generated_images, fake)\n",
    "    real_loss = qual_disc.train_on_batch(images, real)\n",
    "\n",
    "    # gen_loss = generator_loss(images, generated_images)\n",
    "    # disc_loss = quality_discriminator_loss(real_output, fake_output)\n",
    "\n",
    "    # gradients_of_generator =  gen_tape.gradient(gen_loss, gen.trainable_variables)\n",
    "    # gradients_of_quality_discriminator = disc_tape.gradient(disc_loss, qual_disc.trainable_variables)\n",
    "\n",
    "    # generator_optimizer.apply_gradients(zip(gradients_of_generator, gen.trainable_variables))\n",
    "    # quality_discriminator_optimizer.apply_gradients(zip(gradients_of_quality_discriminator, qual_disc.trainable_variables))\n",
    "\n",
    "    # train generator\n",
    "    total, mae, adv= gen.train_on_batch([gen_imgs, audio_samples], [images, real]) \n",
    "    print(\"Disc Loss: {} Real Loss: {} Total Gen Loss: {} MAE: {} Adv Loss: {}\".format(disc_loss, real_loss, total, mae, adv))\n",
    "\n",
    "    # gen_loss_prog.update(gen_loss)\n",
    "    # disc_loss_prog.update(disc_loss)\n",
    "    # disc_real_loss_prog.update(real_loss)"
   ]
  },
  {
   "cell_type": "markdown",
   "metadata": {},
   "source": [
    "# Train"
   ]
  },
  {
   "cell_type": "code",
   "execution_count": 12,
   "metadata": {},
   "outputs": [],
   "source": [
    "def train_in_batch(batch, epoch):\n",
    "    start = time.time()\n",
    "    train_step(batch[0], batch[1], batch[2])\n",
    "\n",
    "    # Produces images for the GIF\n",
    "    generate_and_save_images(gen, epoch + 1, test_img_arrs, test_img_concats, test_audio_arrs) # Maybe my face?\n",
    "    # if (epoch+1) % 15 == 0:\n",
    "    #     checkpoint.save(file_prefix = checkpoint_prefix)\n",
    "    print('Time for epoch {} is {} sec. Image Saved'.format(epoch+1, time.time()-start))\n",
    "    "
   ]
  },
  {
   "cell_type": "code",
   "execution_count": 13,
   "metadata": {},
   "outputs": [
    {
     "name": "stdout",
     "output_type": "stream",
     "text": [
      "Batch Acquisition time 5.882918834686279 for epoch 26. Training...\n"
     ]
    },
    {
     "ename": "KeyboardInterrupt",
     "evalue": "",
     "output_type": "error",
     "traceback": [
      "\u001b[0;31m---------------------------------------------------------------------------\u001b[0m",
      "\u001b[0;31mKeyboardInterrupt\u001b[0m                         Traceback (most recent call last)",
      "Cell \u001b[0;32mIn [13], line 10\u001b[0m\n\u001b[1;32m      8\u001b[0m     display\u001b[38;5;241m.\u001b[39mclear_output(wait\u001b[38;5;241m=\u001b[39m\u001b[38;5;28;01mTrue\u001b[39;00m)\n\u001b[1;32m      9\u001b[0m     \u001b[38;5;28mprint\u001b[39m(\u001b[38;5;124mf\u001b[39m\u001b[38;5;124m\"\u001b[39m\u001b[38;5;124mBatch Acquisition time \u001b[39m\u001b[38;5;132;01m{\u001b[39;00mtime\u001b[38;5;241m.\u001b[39mtime() \u001b[38;5;241m-\u001b[39m start\u001b[38;5;132;01m}\u001b[39;00m\u001b[38;5;124m for epoch \u001b[39m\u001b[38;5;132;01m{\u001b[39;00mepoch \u001b[38;5;241m+\u001b[39m \u001b[38;5;241m1\u001b[39m\u001b[38;5;132;01m}\u001b[39;00m\u001b[38;5;124m. Training...\u001b[39m\u001b[38;5;124m\"\u001b[39m)\n\u001b[0;32m---> 10\u001b[0m     \u001b[43mtrain_in_batch\u001b[49m\u001b[43m(\u001b[49m\u001b[43mbatch\u001b[49m\u001b[43m,\u001b[49m\u001b[43m \u001b[49m\u001b[43mepoch\u001b[49m\u001b[43m)\u001b[49m\n\u001b[1;32m     12\u001b[0m display\u001b[38;5;241m.\u001b[39mclear_output(wait\u001b[38;5;241m=\u001b[39m\u001b[38;5;28;01mTrue\u001b[39;00m)\n\u001b[1;32m     13\u001b[0m gen\u001b[38;5;241m.\u001b[39msave(\u001b[38;5;124m'\u001b[39m\u001b[38;5;124m./saved_models/generator/khoa10000epochs\u001b[39m\u001b[38;5;124m'\u001b[39m)\n",
      "Cell \u001b[0;32mIn [12], line 3\u001b[0m, in \u001b[0;36mtrain_in_batch\u001b[0;34m(batch, epoch)\u001b[0m\n\u001b[1;32m      1\u001b[0m \u001b[38;5;28;01mdef\u001b[39;00m \u001b[38;5;21mtrain_in_batch\u001b[39m(batch, epoch):\n\u001b[1;32m      2\u001b[0m     start \u001b[38;5;241m=\u001b[39m time\u001b[38;5;241m.\u001b[39mtime()\n\u001b[0;32m----> 3\u001b[0m     \u001b[43mtrain_step\u001b[49m\u001b[43m(\u001b[49m\u001b[43mbatch\u001b[49m\u001b[43m[\u001b[49m\u001b[38;5;241;43m0\u001b[39;49m\u001b[43m]\u001b[49m\u001b[43m,\u001b[49m\u001b[43m \u001b[49m\u001b[43mbatch\u001b[49m\u001b[43m[\u001b[49m\u001b[38;5;241;43m1\u001b[39;49m\u001b[43m]\u001b[49m\u001b[43m,\u001b[49m\u001b[43m \u001b[49m\u001b[43mbatch\u001b[49m\u001b[43m[\u001b[49m\u001b[38;5;241;43m2\u001b[39;49m\u001b[43m]\u001b[49m\u001b[43m)\u001b[49m\n\u001b[1;32m      5\u001b[0m     \u001b[38;5;66;03m# Produces images for the GIF\u001b[39;00m\n\u001b[1;32m      6\u001b[0m     generate_and_save_images(gen, epoch \u001b[38;5;241m+\u001b[39m \u001b[38;5;241m1\u001b[39m, test_img_arrs, test_img_concats, test_audio_arrs) \u001b[38;5;66;03m# Maybe my face?\u001b[39;00m\n",
      "Cell \u001b[0;32mIn [11], line 27\u001b[0m, in \u001b[0;36mtrain_step\u001b[0;34m(images, gen_imgs, audio_samples)\u001b[0m\n\u001b[1;32m     15\u001b[0m real_loss \u001b[38;5;241m=\u001b[39m qual_disc\u001b[38;5;241m.\u001b[39mtrain_on_batch(images, real)\n\u001b[1;32m     17\u001b[0m \u001b[38;5;66;03m# gen_loss = generator_loss(images, generated_images)\u001b[39;00m\n\u001b[1;32m     18\u001b[0m \u001b[38;5;66;03m# disc_loss = quality_discriminator_loss(real_output, fake_output)\u001b[39;00m\n\u001b[1;32m     19\u001b[0m \n\u001b[0;32m   (...)\u001b[0m\n\u001b[1;32m     25\u001b[0m \n\u001b[1;32m     26\u001b[0m \u001b[38;5;66;03m# train generator\u001b[39;00m\n\u001b[0;32m---> 27\u001b[0m total, mae, adv\u001b[38;5;241m=\u001b[39m \u001b[43mgen\u001b[49m\u001b[38;5;241;43m.\u001b[39;49m\u001b[43mtrain_on_batch\u001b[49m\u001b[43m(\u001b[49m\u001b[43m[\u001b[49m\u001b[43mgen_imgs\u001b[49m\u001b[43m,\u001b[49m\u001b[43m \u001b[49m\u001b[43maudio_samples\u001b[49m\u001b[43m]\u001b[49m\u001b[43m,\u001b[49m\u001b[43m \u001b[49m\u001b[43m[\u001b[49m\u001b[43mimages\u001b[49m\u001b[43m,\u001b[49m\u001b[43m \u001b[49m\u001b[43mreal\u001b[49m\u001b[43m]\u001b[49m\u001b[43m)\u001b[49m \n\u001b[1;32m     28\u001b[0m \u001b[38;5;28mprint\u001b[39m(\u001b[38;5;124m\"\u001b[39m\u001b[38;5;124mDisc Loss: \u001b[39m\u001b[38;5;132;01m{}\u001b[39;00m\u001b[38;5;124m Real Loss: \u001b[39m\u001b[38;5;132;01m{}\u001b[39;00m\u001b[38;5;124m Total Gen Loss: \u001b[39m\u001b[38;5;132;01m{}\u001b[39;00m\u001b[38;5;124m MAE: \u001b[39m\u001b[38;5;132;01m{}\u001b[39;00m\u001b[38;5;124m Adv Loss: \u001b[39m\u001b[38;5;132;01m{}\u001b[39;00m\u001b[38;5;124m\"\u001b[39m\u001b[38;5;241m.\u001b[39mformat(disc_loss, real_loss, total, mae, adv))\n",
      "File \u001b[0;32m~/.local/lib/python3.10/site-packages/keras/engine/training.py:2480\u001b[0m, in \u001b[0;36mModel.train_on_batch\u001b[0;34m(self, x, y, sample_weight, class_weight, reset_metrics, return_dict)\u001b[0m\n\u001b[1;32m   2477\u001b[0m     \u001b[39mself\u001b[39m\u001b[39m.\u001b[39mtrain_function \u001b[39m=\u001b[39m \u001b[39mself\u001b[39m\u001b[39m.\u001b[39mmake_train_function()\n\u001b[1;32m   2478\u001b[0m     logs \u001b[39m=\u001b[39m \u001b[39mself\u001b[39m\u001b[39m.\u001b[39mtrain_function(iterator)\n\u001b[0;32m-> 2480\u001b[0m logs \u001b[39m=\u001b[39m tf_utils\u001b[39m.\u001b[39;49msync_to_numpy_or_python_type(logs)\n\u001b[1;32m   2481\u001b[0m \u001b[39mif\u001b[39;00m return_dict:\n\u001b[1;32m   2482\u001b[0m     \u001b[39mreturn\u001b[39;00m logs\n",
      "File \u001b[0;32m~/.local/lib/python3.10/site-packages/keras/utils/tf_utils.py:665\u001b[0m, in \u001b[0;36msync_to_numpy_or_python_type\u001b[0;34m(tensors)\u001b[0m\n\u001b[1;32m    662\u001b[0m         \u001b[39mreturn\u001b[39;00m t\n\u001b[1;32m    663\u001b[0m     \u001b[39mreturn\u001b[39;00m t\u001b[39m.\u001b[39mitem() \u001b[39mif\u001b[39;00m np\u001b[39m.\u001b[39mndim(t) \u001b[39m==\u001b[39m \u001b[39m0\u001b[39m \u001b[39melse\u001b[39;00m t\n\u001b[0;32m--> 665\u001b[0m \u001b[39mreturn\u001b[39;00m tf\u001b[39m.\u001b[39;49mnest\u001b[39m.\u001b[39;49mmap_structure(_to_single_numpy_or_python_type, tensors)\n",
      "File \u001b[0;32m~/.local/lib/python3.10/site-packages/tensorflow/python/util/nest.py:917\u001b[0m, in \u001b[0;36mmap_structure\u001b[0;34m(func, *structure, **kwargs)\u001b[0m\n\u001b[1;32m    913\u001b[0m flat_structure \u001b[39m=\u001b[39m (flatten(s, expand_composites) \u001b[39mfor\u001b[39;00m s \u001b[39min\u001b[39;00m structure)\n\u001b[1;32m    914\u001b[0m entries \u001b[39m=\u001b[39m \u001b[39mzip\u001b[39m(\u001b[39m*\u001b[39mflat_structure)\n\u001b[1;32m    916\u001b[0m \u001b[39mreturn\u001b[39;00m pack_sequence_as(\n\u001b[0;32m--> 917\u001b[0m     structure[\u001b[39m0\u001b[39m], [func(\u001b[39m*\u001b[39mx) \u001b[39mfor\u001b[39;00m x \u001b[39min\u001b[39;00m entries],\n\u001b[1;32m    918\u001b[0m     expand_composites\u001b[39m=\u001b[39mexpand_composites)\n",
      "File \u001b[0;32m~/.local/lib/python3.10/site-packages/tensorflow/python/util/nest.py:917\u001b[0m, in \u001b[0;36m<listcomp>\u001b[0;34m(.0)\u001b[0m\n\u001b[1;32m    913\u001b[0m flat_structure \u001b[39m=\u001b[39m (flatten(s, expand_composites) \u001b[39mfor\u001b[39;00m s \u001b[39min\u001b[39;00m structure)\n\u001b[1;32m    914\u001b[0m entries \u001b[39m=\u001b[39m \u001b[39mzip\u001b[39m(\u001b[39m*\u001b[39mflat_structure)\n\u001b[1;32m    916\u001b[0m \u001b[39mreturn\u001b[39;00m pack_sequence_as(\n\u001b[0;32m--> 917\u001b[0m     structure[\u001b[39m0\u001b[39m], [func(\u001b[39m*\u001b[39;49mx) \u001b[39mfor\u001b[39;00m x \u001b[39min\u001b[39;00m entries],\n\u001b[1;32m    918\u001b[0m     expand_composites\u001b[39m=\u001b[39mexpand_composites)\n",
      "File \u001b[0;32m~/.local/lib/python3.10/site-packages/keras/utils/tf_utils.py:658\u001b[0m, in \u001b[0;36msync_to_numpy_or_python_type.<locals>._to_single_numpy_or_python_type\u001b[0;34m(t)\u001b[0m\n\u001b[1;32m    655\u001b[0m \u001b[39mdef\u001b[39;00m \u001b[39m_to_single_numpy_or_python_type\u001b[39m(t):\n\u001b[1;32m    656\u001b[0m     \u001b[39m# Don't turn ragged or sparse tensors to NumPy.\u001b[39;00m\n\u001b[1;32m    657\u001b[0m     \u001b[39mif\u001b[39;00m \u001b[39misinstance\u001b[39m(t, tf\u001b[39m.\u001b[39mTensor):\n\u001b[0;32m--> 658\u001b[0m         t \u001b[39m=\u001b[39m t\u001b[39m.\u001b[39;49mnumpy()\n\u001b[1;32m    659\u001b[0m     \u001b[39m# Strings, ragged and sparse tensors don't have .item(). Return them\u001b[39;00m\n\u001b[1;32m    660\u001b[0m     \u001b[39m# as-is.\u001b[39;00m\n\u001b[1;32m    661\u001b[0m     \u001b[39mif\u001b[39;00m \u001b[39mnot\u001b[39;00m \u001b[39misinstance\u001b[39m(t, (np\u001b[39m.\u001b[39mndarray, np\u001b[39m.\u001b[39mgeneric)):\n",
      "File \u001b[0;32m~/.local/lib/python3.10/site-packages/tensorflow/python/framework/ops.py:1155\u001b[0m, in \u001b[0;36m_EagerTensorBase.numpy\u001b[0;34m(self)\u001b[0m\n\u001b[1;32m   1132\u001b[0m \u001b[39m\"\"\"Copy of the contents of this Tensor into a NumPy array or scalar.\u001b[39;00m\n\u001b[1;32m   1133\u001b[0m \n\u001b[1;32m   1134\u001b[0m \u001b[39mUnlike NumPy arrays, Tensors are immutable, so this method has to copy\u001b[39;00m\n\u001b[0;32m   (...)\u001b[0m\n\u001b[1;32m   1152\u001b[0m \u001b[39m    NumPy dtype.\u001b[39;00m\n\u001b[1;32m   1153\u001b[0m \u001b[39m\"\"\"\u001b[39;00m\n\u001b[1;32m   1154\u001b[0m \u001b[39m# TODO(slebedev): Consider avoiding a copy for non-CPU or remote tensors.\u001b[39;00m\n\u001b[0;32m-> 1155\u001b[0m maybe_arr \u001b[39m=\u001b[39m \u001b[39mself\u001b[39;49m\u001b[39m.\u001b[39;49m_numpy()  \u001b[39m# pylint: disable=protected-access\u001b[39;00m\n\u001b[1;32m   1156\u001b[0m \u001b[39mreturn\u001b[39;00m maybe_arr\u001b[39m.\u001b[39mcopy() \u001b[39mif\u001b[39;00m \u001b[39misinstance\u001b[39m(maybe_arr, np\u001b[39m.\u001b[39mndarray) \u001b[39melse\u001b[39;00m maybe_arr\n",
      "File \u001b[0;32m~/.local/lib/python3.10/site-packages/tensorflow/python/framework/ops.py:1121\u001b[0m, in \u001b[0;36m_EagerTensorBase._numpy\u001b[0;34m(self)\u001b[0m\n\u001b[1;32m   1119\u001b[0m \u001b[39mdef\u001b[39;00m \u001b[39m_numpy\u001b[39m(\u001b[39mself\u001b[39m):\n\u001b[1;32m   1120\u001b[0m   \u001b[39mtry\u001b[39;00m:\n\u001b[0;32m-> 1121\u001b[0m     \u001b[39mreturn\u001b[39;00m \u001b[39mself\u001b[39;49m\u001b[39m.\u001b[39;49m_numpy_internal()\n\u001b[1;32m   1122\u001b[0m   \u001b[39mexcept\u001b[39;00m core\u001b[39m.\u001b[39m_NotOkStatusException \u001b[39mas\u001b[39;00m e:  \u001b[39m# pylint: disable=protected-access\u001b[39;00m\n\u001b[1;32m   1123\u001b[0m     \u001b[39mraise\u001b[39;00m core\u001b[39m.\u001b[39m_status_to_exception(e) \u001b[39mfrom\u001b[39;00m \u001b[39mNone\u001b[39m\n",
      "\u001b[0;31mKeyboardInterrupt\u001b[0m: "
     ]
    }
   ],
   "source": [
    "for epoch in range(EPOCHS):\n",
    "    # if epoch%100 == 0: # Save every 100 epochs\n",
    "    #     gen.save('./saved_models/generator/khoa10000epochs')\n",
    "        \n",
    "    print(\"Epoch {} starting\".format(epoch+1))\n",
    "    start = time.time()\n",
    "    batch = get_batch(epoch)\n",
    "    display.clear_output(wait=True)\n",
    "    print(f\"Batch Acquisition time {time.time() - start} for epoch {epoch + 1}. Training...\")\n",
    "    train_in_batch(batch, epoch)\n",
    "\n",
    "display.clear_output(wait=True)\n",
    "gen.save('./saved_models/generator/khoa10000epochs')\n",
    "generate_and_save_images(gen, epoch + 1, test_img_arrs, test_img_concats, test_audio_arrs) # Maybe my face?"
   ]
  },
  {
   "cell_type": "markdown",
   "metadata": {},
   "source": [
    "# Demo"
   ]
  },
  {
   "cell_type": "code",
   "execution_count": null,
   "metadata": {},
   "outputs": [
    {
     "ename": "NameError",
     "evalue": "name 'random_get_batch' is not defined",
     "output_type": "error",
     "traceback": [
      "\u001b[0;31m---------------------------------------------------------------------------\u001b[0m",
      "\u001b[0;31mNameError\u001b[0m                                 Traceback (most recent call last)",
      "Cell \u001b[0;32mIn [1], line 1\u001b[0m\n\u001b[0;32m----> 1\u001b[0m images, img_concats, audio_samples \u001b[38;5;241m=\u001b[39m \u001b[43mrandom_get_batch\u001b[49m(\u001b[38;5;241m2\u001b[39m, \u001b[38;5;241m1\u001b[39m)\n\u001b[1;32m      3\u001b[0m generate_and_save_images(gen, \u001b[38;5;241m1000\u001b[39m, images, img_concats, audio_samples, \u001b[38;5;28;01mFalse\u001b[39;00m)\n",
      "\u001b[0;31mNameError\u001b[0m: name 'random_get_batch' is not defined"
     ]
    }
   ],
   "source": [
    "images, img_concats, audio_samples = random_get_batch(2, 1)\n",
    "\n",
    "generate_and_save_images(gen, 1000, images, img_concats, audio_samples, False)"
   ]
  },
  {
   "cell_type": "code",
   "execution_count": null,
   "metadata": {},
   "outputs": [
    {
     "name": "stderr",
     "output_type": "stream",
     "text": [
      "WARNING:py.warnings:/tmp/ipykernel_20323/2933232172.py:9: DeprecationWarning: Starting with ImageIO v3 the behavior of this function will switch to that of iio.v3.imread. To keep the current behavior (and make this warning disappear) use `import imageio.v2 as imageio` or call `imageio.v2.imread` directly.\n",
      "  image = imageio.imread(filename)\n",
      "\n",
      "WARNING:py.warnings:/tmp/ipykernel_20323/2933232172.py:11: DeprecationWarning: Starting with ImageIO v3 the behavior of this function will switch to that of iio.v3.imread. To keep the current behavior (and make this warning disappear) use `import imageio.v2 as imageio` or call `imageio.v2.imread` directly.\n",
      "  image = imageio.imread(filename)\n",
      "\n"
     ]
    }
   ],
   "source": [
    "import imageio\n",
    "\n",
    "anim_file = 'deepfake.gif'\n",
    "\n",
    "with imageio.get_writer(anim_file, mode='I') as writer:\n",
    "  filenames = glob.glob('generated_images/image_at_epoch*.png')\n",
    "  filenames = sorted(filenames)\n",
    "  for filename in filenames:\n",
    "    image = imageio.imread(filename)\n",
    "    writer.append_data(image)\n",
    "  image = imageio.imread(filename)\n",
    "  writer.append_data(image)\n",
    "\n",
    "    "
   ]
  },
  {
   "cell_type": "markdown",
   "metadata": {},
   "source": [
    "# Test"
   ]
  },
  {
   "cell_type": "markdown",
   "metadata": {},
   "source": []
  }
 ],
 "metadata": {
  "kernelspec": {
   "display_name": "Python 3.10.6 64-bit",
   "language": "python",
   "name": "python3"
  },
  "language_info": {
   "codemirror_mode": {
    "name": "ipython",
    "version": 3
   },
   "file_extension": ".py",
   "mimetype": "text/x-python",
   "name": "python",
   "nbconvert_exporter": "python",
   "pygments_lexer": "ipython3",
   "version": "3.10.6"
  },
  "orig_nbformat": 4,
  "vscode": {
   "interpreter": {
    "hash": "916dbcbb3f70747c44a77c7bcd40155683ae19c65e1c03b4aa3499c5328201f1"
   }
  }
 },
 "nbformat": 4,
 "nbformat_minor": 2
}
