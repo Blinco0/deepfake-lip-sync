{
 "cells": [
  {
   "cell_type": "markdown",
   "metadata": {},
   "source": [
    "# Imports"
   ]
  },
  {
   "cell_type": "code",
   "execution_count": 5,
   "metadata": {},
   "outputs": [],
   "source": [
    "import numpy as np # linear algebra\n",
    "import pandas as pd # data processing, CSV file I/O (e.g. pd.read_csv)\n",
    "import cv2\n",
    "import matplotlib.pyplot as plt\n",
    "import pathlib\n",
    "import tensorflow as tf\n",
    "from tensorflow import keras\n",
    "import os\n",
    "import time\n",
    "import random\n",
    "import glob # Khoa's stuff\n",
    "from IPython import display\n",
    "from tqdm import tqdm # for training progress\n",
    "import wave\n",
    "import json\n",
    "\n",
    "# Utilities\n",
    "import scipy.io.wavfile as wav\n",
    "from utils.audio_spectrogram import stft_np as stft\n",
    "from utils.img_processing import mask_image\n",
    "from PIL import Image\n",
    "\n",
    "# Models\n",
    "from models.deepfake_generator import combined_generator, generator # Generator is only for plotting\n",
    "from models.visual_quality_discriminator import quality_discriminator"
   ]
  },
  {
   "cell_type": "markdown",
   "metadata": {},
   "source": [
    "# Constants"
   ]
  },
  {
   "cell_type": "code",
   "execution_count": 6,
   "metadata": {},
   "outputs": [],
   "source": [
    "EPOCHS = 10000\n",
    "BATCH_SIZE = 100"
   ]
  },
  {
   "cell_type": "markdown",
   "metadata": {},
   "source": [
    "# Load Batch Data\n",
    "Takes up 100 MB in RAM at least"
   ]
  },
  {
   "cell_type": "code",
   "execution_count": 7,
   "metadata": {},
   "outputs": [
    {
     "ename": "FileNotFoundError",
     "evalue": "[Errno 2] No such file or directory: 'batch_data/batches.json'",
     "output_type": "error",
     "traceback": [
      "\u001b[0;31m---------------------------------------------------------------------------\u001b[0m",
      "\u001b[0;31mFileNotFoundError\u001b[0m                         Traceback (most recent call last)",
      "Cell \u001b[0;32mIn[7], line 2\u001b[0m\n\u001b[1;32m      1\u001b[0m BATCH_DATA \u001b[39m=\u001b[39m {}\n\u001b[0;32m----> 2\u001b[0m \u001b[39mwith\u001b[39;00m \u001b[39mopen\u001b[39;49m(\u001b[39m'\u001b[39;49m\u001b[39mbatch_data/batches.json\u001b[39;49m\u001b[39m'\u001b[39;49m, \u001b[39m'\u001b[39;49m\u001b[39mr\u001b[39;49m\u001b[39m'\u001b[39;49m) \u001b[39mas\u001b[39;00m f:\n\u001b[1;32m      3\u001b[0m     BATCH_DATA \u001b[39m=\u001b[39m json\u001b[39m.\u001b[39mload(f)\n\u001b[1;32m      5\u001b[0m \u001b[39massert\u001b[39;00m \u001b[39mlen\u001b[39m(BATCH_DATA) \u001b[39m==\u001b[39m EPOCHS, \u001b[39mprint\u001b[39m(\u001b[39m\"\u001b[39m\u001b[39m{}\u001b[39;00m\u001b[39m epochs worth of data is required. Provided batch file only has \u001b[39m\u001b[39m{}\u001b[39;00m\u001b[39m\"\u001b[39m\u001b[39m.\u001b[39mformat(EPOCHS, \u001b[39mlen\u001b[39m(BATCH_DATA)))\n",
      "File \u001b[0;32m~/deepfake/lib64/python3.10/site-packages/IPython/core/interactiveshell.py:282\u001b[0m, in \u001b[0;36m_modified_open\u001b[0;34m(file, *args, **kwargs)\u001b[0m\n\u001b[1;32m    275\u001b[0m \u001b[39mif\u001b[39;00m file \u001b[39min\u001b[39;00m {\u001b[39m0\u001b[39m, \u001b[39m1\u001b[39m, \u001b[39m2\u001b[39m}:\n\u001b[1;32m    276\u001b[0m     \u001b[39mraise\u001b[39;00m \u001b[39mValueError\u001b[39;00m(\n\u001b[1;32m    277\u001b[0m         \u001b[39mf\u001b[39m\u001b[39m\"\u001b[39m\u001b[39mIPython won\u001b[39m\u001b[39m'\u001b[39m\u001b[39mt let you open fd=\u001b[39m\u001b[39m{\u001b[39;00mfile\u001b[39m}\u001b[39;00m\u001b[39m by default \u001b[39m\u001b[39m\"\u001b[39m\n\u001b[1;32m    278\u001b[0m         \u001b[39m\"\u001b[39m\u001b[39mas it is likely to crash IPython. If you know what you are doing, \u001b[39m\u001b[39m\"\u001b[39m\n\u001b[1;32m    279\u001b[0m         \u001b[39m\"\u001b[39m\u001b[39myou can use builtins\u001b[39m\u001b[39m'\u001b[39m\u001b[39m open.\u001b[39m\u001b[39m\"\u001b[39m\n\u001b[1;32m    280\u001b[0m     )\n\u001b[0;32m--> 282\u001b[0m \u001b[39mreturn\u001b[39;00m io_open(file, \u001b[39m*\u001b[39;49margs, \u001b[39m*\u001b[39;49m\u001b[39m*\u001b[39;49mkwargs)\n",
      "\u001b[0;31mFileNotFoundError\u001b[0m: [Errno 2] No such file or directory: 'batch_data/batches.json'"
     ]
    }
   ],
   "source": [
    "BATCH_DATA = {}\n",
    "with open('batch_data/batches.json', 'r') as f:\n",
    "    BATCH_DATA = json.load(f)\n",
    "\n",
    "assert len(BATCH_DATA) == EPOCHS, print(\"{} epochs worth of data is required. Provided batch file only has {}\".format(EPOCHS, len(BATCH_DATA)))\n",
    "print(BATCH_DATA[\"0\"])"
   ]
  },
  {
   "cell_type": "markdown",
   "metadata": {},
   "source": [
    "# Get randomized dataset batch\n",
    "We can't possibly hold everything at once"
   ]
  },
  {
   "cell_type": "code",
   "execution_count": null,
   "metadata": {},
   "outputs": [],
   "source": [
    "def random_get_batch(batch_size, seed=0):\n",
    "    \"\"\"\n",
    "    Khoa's custom function. \n",
    "    The real stuff needs the real function\n",
    "    \"\"\"\n",
    "    random.seed(seed)\n",
    "\n",
    "    data_path = '/media/khoa/WD SSD/dataset/train/real/'\n",
    "\n",
    "    # Go through datapath, append every png file to the png list.\n",
    "    png_list = []\n",
    "    for file in os.listdir(data_path):\n",
    "        if file.endswith('png'):\n",
    "            png_list.append(file)\n",
    "\n",
    "    image_samples = []\n",
    "    gen_input_samples = [] # Specifically to work with Huy's data, should change\n",
    "    audio_samples = []\n",
    "    print(\"Choosing random data batch\")\n",
    "    batch = random.sample(png_list, batch_size)\n",
    "    print(\"Batch chosen, processing\")\n",
    "    # Go through a list of batch-size elements chosen randomly from png_list\n",
    "    task = tqdm(total=len(batch*5), position=0)\n",
    "    for img_name in batch:\n",
    "        img_name = data_path + img_name\n",
    "        name = img_name[:-4] # name of file without extension\n",
    "        audio_name = name + '.wav'# name of audio file\n",
    "        # TODO duct-tape solution, figure out how to remove it from dataset\n",
    "        samplerate, samples = wav.read(audio_name)\n",
    "        if len(samples) < 1450:\n",
    "            continue\n",
    "\n",
    "        img = Image.open(img_name)\n",
    "        # Convert image to numpy array of 3 dimensions\n",
    "        img_arr = np.asarray(img)\n",
    "    \n",
    "        name_no_digit = ''.join([i for i in name if not i.isdigit()])  # PNG name is sth like REAL_aerzetktyh_0. name_no_digit will be sth like REAL_aerzetktyh\n",
    "        pose_prior_name = img_name\n",
    "\n",
    "\n",
    "        count = 0\n",
    "        # randomly choose a pose prior of the same person\n",
    "        while pose_prior_name == img_name and count < 100:\n",
    "            count+=1\n",
    "            pose_prior_name = random.choice(glob.glob(name_no_digit+'*.png')) # So if we choose sth like REAL_aerzetkyh_0.png as input to feed in, the reference image\n",
    "                                                                           # would be sth like REAL_aerzetkyh_67.png\n",
    "\n",
    "        if count == 100: # No possible pose-prior found\n",
    "            continue\n",
    "        \n",
    "        # Only append the image if a pose-prior can be found\n",
    "        image_samples.append(img_arr / 255)  #  Normalization of image\n",
    "        task.update()\n",
    "\n",
    "        pose_prior = Image.open(pose_prior_name)  # Post_prior is just the reference image in the same video as the one we're going to feed to the generator\n",
    "        pose_prior = np.asarray(pose_prior)\n",
    "        pose_prior = pose_prior / 255\n",
    "        task.update()\n",
    "\n",
    "        # img_masked = img_arr.copy()\n",
    "        # create a mask  Crop out the lower part of the image.\n",
    "        # img_masked[256//2:,...] = 0  \n",
    "        img_masked = mask_image(img_name)\n",
    "        img_masked = img_masked / 255\n",
    "        task.update()\n",
    "\n",
    "        # concatenate masked ground truth to pose prior\n",
    "        img_concat = np.concatenate([pose_prior, img_masked], axis=2)\n",
    "        # expected shape (256, 256, 6)\n",
    "        gen_input_samples.append(img_concat)\n",
    "        task.update()\n",
    "        \n",
    "        audio_arr = stft(audio_name, 2 ** 10) # Generate the spectrogram out of audio segment.\n",
    "        \n",
    "        audio_samples.append(audio_arr)\n",
    "        task.update()\n",
    "    print(\"Batch processed\")\n",
    "    image_samples = np.asarray(image_samples).astype('float32')\n",
    "    gen_input_samples = np.asarray(gen_input_samples).astype('float32')\n",
    "    audio_samples = np.asarray(audio_samples)\n",
    "    print(\"Batch converted to numpy arrays. Returning\")\n",
    "        \n",
    "    # It should go without saying that the order needs to match\n",
    "    return image_samples, gen_input_samples, audio_samples"
   ]
  },
  {
   "cell_type": "code",
   "execution_count": null,
   "metadata": {},
   "outputs": [],
   "source": [
    "def get_batch(epoch):\n",
    "    \"\"\"\n",
    "    Proper get_batch function.\n",
    "    Requires a batches.json file to get here\n",
    "    :param epoch: The index of the epoch. Epoch 0 will have the epoch value of 0, for example.\n",
    "    \"\"\"\n",
    "\n",
    "    image_samples = []\n",
    "    gen_input_samples = [] # Specifically to work with Huy's data, should change\n",
    "    audio_samples = []\n",
    "    unsync_audio_samples = []\n",
    "    print(\"Getting pre-determined data batch\")\n",
    "    batch = BATCH_DATA[str(epoch)]\n",
    "\n",
    "    print(\"Batch chosen, processing\")\n",
    "    # Go through a list of batch-size elements chosen randomly from png_list\n",
    "    task = tqdm(total=len(batch*5), position=0)\n",
    "    for names in batch:\n",
    "        img_name, pose_prior_name = names\n",
    "\n",
    "        audio_name = img_name + '.wav'# name of audio file\n",
    "        img_name = img_name + '.png'\n",
    "        pose_prior_name = pose_prior_name + '.png'\n",
    "        pose_prior_audio = pose_prior_name + '.wav'\n",
    "        # TODO duct-tape solution, figure out how to remove it from dataset\n",
    "        samplerate, samples = wav.read(audio_name)\n",
    "        samplerate_pp, samples_pp = wav.read(pose_prior_audio)  # For the generator.\n",
    "        if len(samples) < 1450 or len(samples_pp) < 1450:\n",
    "            continue\n",
    "\n",
    "        img = Image.open(img_name)\n",
    "        # Convert image to numpy array of 3 dimensions\n",
    "        img_arr = np.asarray(img)\n",
    "        \n",
    "        # Only append the image if a pose-prior can be found\n",
    "        image_samples.append(img_arr / 255)  #  Normalization of image\n",
    "        task.update()\n",
    "\n",
    "        pose_prior = Image.open(pose_prior_name)  # Post_prior is just the reference image in the same video as the one we're going to feed to the generator\n",
    "        pose_prior = np.asarray(pose_prior)\n",
    "        pose_prior = pose_prior / 255\n",
    "        task.update()\n",
    "\n",
    "        # img_masked = img_arr.copy()\n",
    "        # create a mask  Crop out the lower part of the image.\n",
    "        # img_masked[256//2:,...] = 0  \n",
    "        img_masked = mask_image(img_name)\n",
    "        img_masked = img_masked / 255\n",
    "        task.update()\n",
    "\n",
    "        # concatenate masked ground truth to pose prior\n",
    "        img_concat = np.concatenate([pose_prior, img_masked], axis=2)\n",
    "        # expected shape (256, 256, 6)\n",
    "        gen_input_samples.append(img_concat)\n",
    "        task.update()\n",
    "        \n",
    "        audio_arr = stft(audio_name, 2 ** 10) # Generate the spectrogram out of audio segment.\n",
    "        audio_unsync_arr = stft(pose_prior_audio, 2 ** 10)\n",
    "        audio_samples.append(audio_arr)\n",
    "        unsync_audio_samples.append(audio_unsync_arr)\n",
    "        task.update()\n",
    "    print(\"Batch processed\")\n",
    "    image_samples = np.asarray(image_samples).astype('float32')\n",
    "    gen_input_samples = np.asarray(gen_input_samples).astype('float32')\n",
    "    audio_samples = np.asarray(audio_samples)\n",
    "    unsync_audio_samples = np.asarray(unsync_audio_samples)\n",
    "    print(\"Batch converted to numpy arrays. Returning\")\n",
    "        \n",
    "    # It should go without saying that the order needs to match\n",
    "    return image_samples, gen_input_samples, audio_samples, unsync_audio_samples"
   ]
  },
  {
   "cell_type": "code",
   "execution_count": null,
   "metadata": {},
   "outputs": [],
   "source": [
    "def generate_and_save_images(model, epoch, original_images, gen_imgs, audio_samples, save=True):\n",
    "  # Notice `training` is set to False.\n",
    "  # This is so all layers run in inference mode (batchnorm).\n",
    "  predictions, _ = model([gen_imgs, audio_samples])\n",
    "\n",
    "  print(\"Mean Absolute Difference {}\".format(np.mean(np.absolute(predictions[1]-predictions[0]))))\n",
    "\n",
    "  fig = plt.figure(figsize=(2, 2))\n",
    "\n",
    "  for i in range(predictions.shape[0]):\n",
    "      plt.subplot(2, 2, i+1)\n",
    "      plt.imshow(predictions[i])\n",
    "      plt.axis('off')\n",
    "\n",
    "      plt.subplot(2, 2, i+3)\n",
    "      plt.imshow(original_images[i])\n",
    "      plt.axis('off')\n",
    "  \n",
    "  if save:\n",
    "    plt.savefig(\"./generated_images/image_at_epoch_{:04d}.png\".format(epoch))\n",
    "  plt.show()"
   ]
  },
  {
   "cell_type": "markdown",
   "metadata": {},
   "source": [
    "# Test models"
   ]
  },
  {
   "cell_type": "code",
   "execution_count": null,
   "metadata": {},
   "outputs": [
    {
     "name": "stdout",
     "output_type": "stream",
     "text": [
      "Choosing random data batch\n",
      "Batch chosen, processing\n"
     ]
    },
    {
     "name": "stderr",
     "output_type": "stream",
     "text": [
      "100%|██████████| 10/10 [00:01<00:00,  5.84it/s]\n",
      "2023-02-21 12:17:18.574483: I tensorflow/compiler/xla/stream_executor/cuda/cuda_gpu_executor.cc:981] successful NUMA node read from SysFS had negative value (-1), but there must be at least one NUMA node, so returning NUMA node zero\n",
      "2023-02-21 12:17:18.592597: I tensorflow/compiler/xla/stream_executor/cuda/cuda_gpu_executor.cc:981] successful NUMA node read from SysFS had negative value (-1), but there must be at least one NUMA node, so returning NUMA node zero\n",
      "2023-02-21 12:17:18.592761: I tensorflow/compiler/xla/stream_executor/cuda/cuda_gpu_executor.cc:981] successful NUMA node read from SysFS had negative value (-1), but there must be at least one NUMA node, so returning NUMA node zero\n",
      "2023-02-21 12:17:18.593100: I tensorflow/core/platform/cpu_feature_guard.cc:193] This TensorFlow binary is optimized with oneAPI Deep Neural Network Library (oneDNN) to use the following CPU instructions in performance-critical operations:  AVX2 FMA\n",
      "To enable them in other operations, rebuild TensorFlow with the appropriate compiler flags.\n",
      "2023-02-21 12:17:18.593556: I tensorflow/compiler/xla/stream_executor/cuda/cuda_gpu_executor.cc:981] successful NUMA node read from SysFS had negative value (-1), but there must be at least on"
     ]
    },
    {
     "name": "stdout",
     "output_type": "stream",
     "text": [
      "Batch processed\n",
      "Batch converted to numpy arrays. Returning\n",
      "(2, 256, 256, 6)\n"
     ]
    },
    {
     "name": "stderr",
     "output_type": "stream",
     "text": [
      "e NUMA node, so returning NUMA node zero\n",
      "2023-02-21 12:17:18.593692: I tensorflow/compiler/xla/stream_executor/cuda/cuda_gpu_executor.cc:981] successful NUMA node read from SysFS had negative value (-1), but there must be at least one NUMA node, so returning NUMA node zero\n",
      "2023-02-21 12:17:18.593833: I tensorflow/compiler/xla/stream_executor/cuda/cuda_gpu_executor.cc:981] successful NUMA node read from SysFS had negative value (-1), but there must be at least one NUMA node, so returning NUMA node zero\n",
      "2023-02-21 12:17:18.974865: I tensorflow/compiler/xla/stream_executor/cuda/cuda_gpu_executor.cc:981] successful NUMA node read from SysFS had negative value (-1), but there must be at least one NUMA node, so returning NUMA node zero\n",
      "2023-02-21 12:17:18.975033: I tensorflow/compiler/xla/stream_executor/cuda/cuda_gpu_executor.cc:981] successful NUMA node read from SysFS had negative value (-1), but there must be at least one NUMA node, so returning NUMA node zero\n",
      "2023-02-21 12:17:18.975161: I tensorflow/compiler/xla/stream_executor/cuda/cuda_gpu_executor.cc:981] successful NUMA node read from SysFS had negative value (-1), but there must be at least one NUMA node, so returning NUMA node zero\n",
      "2023-02-21 12:17:18.975267: I tensorflow/core/common_runtime/gpu/gpu_device.cc:1613] Created device /job:localhost/replica:0/task:0/device:GPU:0 with 5250 MB memory:  -> device: 0, name: NVIDIA GeForce RTX 3070 Ti, pci bus id: 0000:09:00.0, compute capability: 8.6\n",
      "2023-02-21 12:17:20.118593: I tensorflow/compiler/xla/stream_executor/cuda/cuda_dnn.cc:428] Loaded cuDNN version 8600\n",
      "2023-02-21 12:17:20.615210: I tensorflow/compiler/xla/stream_executor/cuda/cuda_blas.cc:630] TensorFloat-32 will be used for the matrix multiplication. This will only be logged once.\n"
     ]
    },
    {
     "name": "stdout",
     "output_type": "stream",
     "text": [
      "Mean Absolute Difference 0.0003105665382463485\n"
     ]
    },
    {
     "data": {
      "image/png": "[encoded data removed]",
      "text/plain": [
       "<Figure size 200x200 with 4 Axes>"
      ]
     },
     "metadata": {},
     "output_type": "display_data"
    }
   ],
   "source": [
    "test_img_arrs, test_img_concats, test_audio_arrs = random_get_batch(2, 1)\n",
    "print(test_img_concats.shape)\n",
    "# Define models\n",
    "qual_disc = quality_discriminator()\n",
    "gen = combined_generator(qual_disc)\n",
    "\n",
    "\n",
    "generated_img, con_loss = gen([test_img_concats, test_audio_arrs])\n",
    "\n",
    "generate_and_save_images(gen, 0, test_img_arrs, test_img_concats, test_audio_arrs)\n"
   ]
  },
  {
   "cell_type": "markdown",
   "metadata": {},
   "source": [
    "# Plot Models"
   ]
  },
  {
   "cell_type": "code",
   "execution_count": null,
   "metadata": {},
   "outputs": [],
   "source": [
    "# gen_plot = generator()\n",
    "# keras.utils.plot_model(gen_plot, \"generator_plot.png\", show_shapes=True)"
   ]
  },
  {
   "cell_type": "markdown",
   "metadata": {},
   "source": [
    "# Define Loss Functions and Optimizers"
   ]
  },
  {
   "cell_type": "code",
   "execution_count": null,
   "metadata": {},
   "outputs": [],
   "source": [
    "# quality_discriminator_loss = keras.losses.BinaryCrossentropy(from_logits=True)\n",
    "# generator_loss = keras.losses.MeanAbsoluteError() # Also known as L1 reconstruction loss\n",
    "\n",
    "# generator_optimizer = tf.keras.optimizers.Adam(1e-3)\n",
    "# quality_discriminator_optimizer = tf.keras.optimizers.Adam(1e-3)"
   ]
  },
  {
   "cell_type": "markdown",
   "metadata": {},
   "source": [
    "# Misc"
   ]
  },
  {
   "cell_type": "markdown",
   "metadata": {},
   "source": [
    "# Process generator input data\n",
    "Essentially a reference face (pose prior) concatenated channel-wise with the masked original face"
   ]
  },
  {
   "cell_type": "code",
   "execution_count": null,
   "metadata": {},
   "outputs": [],
   "source": [
    "# gen_loss_prog = keras.utils.Progbar(None, unit_name='generator_loss')\n",
    "# disc_loss_prog = keras.utils.Progbar(None, unit_name='quality_discriminator_loss')\n",
    "# disc_real_loss_prog = keras.utils.Progbar(None, unit_name='quality_discriminator_real_loss')\n",
    "# @tf.function()\n",
    "\n",
    "# Task-now: Modify the train_step so that it can penalize the generator for wrong synchronization\n",
    "def train_step(images, gen_imgs, audio_samples, unsync_audio_samples):\n",
    "    \"\"\"\n",
    "    :param images: the reference images\n",
    "    :param gen_images: the masked images\n",
    "    :param audio_samples: the audio spectrogram for each of the element in gen_images\n",
    "    :param unsync_audio_samples: the audio spectrogram of the reference images\n",
    "\n",
    "    Partial explanation of what the code is doing:\n",
    "    train generator. First argument is the input. Second argument is the expected\n",
    "    output to be compared against the actual outputs produced by the generator.\n",
    "    mae is the difference between the expected images and the produced ones. This is\n",
    "    to see if the two images are close to each other.\n",
    "    adv (advance loss) is the difference between the real vector and the outputted results from\n",
    "    the discriminator.When adv is low, this is equivalent to the generator fooling the discriminator.\n",
    "    The ideal situation is where both the MAE and ADV are low. \n",
    "\n",
    "    Of note is that the losses returned are for logging purposes. Those values\n",
    "    have already been taken account of by the model during this epoch.\n",
    "    \"\"\"\n",
    "    disc_loss, real_loss, gen_loss = 0., 0., 0.\n",
    "    #with tf.GradientTape() as gen_tape, tf.GradientTape() as disc_tape:\n",
    "    real = np.zeros((len(images), 1))\n",
    "    fake = np.ones((len(images), 1))\n",
    "\n",
    "    generated_images, gd_loss = gen([gen_imgs, audio_samples])\n",
    "    \n",
    "    # train discriminator\n",
    "    disc_loss = qual_disc.train_on_batch(generated_images, fake)\n",
    "    real_loss = qual_disc.train_on_batch(images, real)\n",
    "\n",
    "    unsync_loss = qual_disc.train_on_batch() # Discriminator has to receive both images and audios\n",
    "\n",
    "\n",
    "    total, mae, adv= gen.train_on_batch([gen_imgs, audio_samples], [images, real]) \n",
    "    print(\"Disc Loss: {} Real Loss: {} Total Gen Loss: {} MAE: {} Adv Loss: {}\".format(disc_loss, real_loss, total, mae, adv))\n",
    "   "
   ]
  },
  {
   "cell_type": "markdown",
   "metadata": {},
   "source": [
    "# Train"
   ]
  },
  {
   "cell_type": "code",
   "execution_count": null,
   "metadata": {},
   "outputs": [],
   "source": [
    "def train_in_batch(batch, epoch):\n",
    "    start = time.time()\n",
    "    # 4 batches: \n",
    "    train_step(batch[0], batch[1], batch[2], batch[3])\n",
    "\n",
    "    # Produces images for the GIF\n",
    "    generate_and_save_images(gen, epoch + 1, test_img_arrs, test_img_concats, test_audio_arrs) # Maybe my face?\n",
    "    # if (epoch+1) % 15 == 0:\n",
    "    #     checkpoint.save(file_prefix = checkpoint_prefix)\n",
    "    print('Time for epoch {} is {} sec. Image Saved'.format(epoch+1, time.time()-start))\n",
    "    "
   ]
  },
  {
   "cell_type": "code",
   "execution_count": null,
   "metadata": {},
   "outputs": [
    {
     "name": "stderr",
     "output_type": "stream",
     "text": [
      "WARNING:absl:Found untraced functions such as _update_step_xla, _jit_compiled_convolution_op, _jit_compiled_convolution_op, _jit_compiled_convolution_op, _jit_compiled_convolution_op while saving (showing 5 of 22). These functions will not be directly callable after loading.\n"
     ]
    },
    {
     "name": "stdout",
     "output_type": "stream",
     "text": [
      "INFO:tensorflow:Assets written to: ./saved_models/generator/khoa10000epochs/assets\n"
     ]
    },
    {
     "name": "stderr",
     "output_type": "stream",
     "text": [
      "INFO:tensorflow:Assets written to: ./saved_models/generator/khoa10000epochs/assets\n"
     ]
    },
    {
     "name": "stdout",
     "output_type": "stream",
     "text": [
      "Epoch 1 starting\n",
      "Getting pre-determined data batch\n",
      "Batch chosen, processing\n"
     ]
    },
    {
     "name": "stderr",
     "output_type": "stream",
     "text": [
      "  0%|          | 0/500 [00:00<?, ?it/s]"
     ]
    },
    {
     "ename": "FileNotFoundError",
     "evalue": "[Errno 2] No such file or directory: '/media/khoa/WD SSD/dataset/train/real/REAL_tygaurfrg.wav'",
     "output_type": "error",
     "traceback": [
      "\u001b[0;31m---------------------------------------------------------------------------\u001b[0m",
      "\u001b[0;31mFileNotFoundError\u001b[0m                         Traceback (most recent call last)",
      "Cell \u001b[0;32mIn [12], line 7\u001b[0m\n\u001b[1;32m      5\u001b[0m \u001b[38;5;28mprint\u001b[39m(\u001b[38;5;124m\"\u001b[39m\u001b[38;5;124mEpoch \u001b[39m\u001b[38;5;132;01m{}\u001b[39;00m\u001b[38;5;124m starting\u001b[39m\u001b[38;5;124m\"\u001b[39m\u001b[38;5;241m.\u001b[39mformat(epoch\u001b[38;5;241m+\u001b[39m\u001b[38;5;241m1\u001b[39m))\n\u001b[1;32m      6\u001b[0m start \u001b[38;5;241m=\u001b[39m time\u001b[38;5;241m.\u001b[39mtime()\n\u001b[0;32m----> 7\u001b[0m batch \u001b[38;5;241m=\u001b[39m \u001b[43mget_batch\u001b[49m\u001b[43m(\u001b[49m\u001b[43mepoch\u001b[49m\u001b[43m)\u001b[49m\n\u001b[1;32m      8\u001b[0m display\u001b[38;5;241m.\u001b[39mclear_output(wait\u001b[38;5;241m=\u001b[39m\u001b[38;5;28;01mTrue\u001b[39;00m)\n\u001b[1;32m      9\u001b[0m \u001b[38;5;28mprint\u001b[39m(\u001b[38;5;124mf\u001b[39m\u001b[38;5;124m\"\u001b[39m\u001b[38;5;124mBatch Acquisition time \u001b[39m\u001b[38;5;132;01m{\u001b[39;00mtime\u001b[38;5;241m.\u001b[39mtime() \u001b[38;5;241m-\u001b[39m start\u001b[38;5;132;01m}\u001b[39;00m\u001b[38;5;124m for epoch \u001b[39m\u001b[38;5;132;01m{\u001b[39;00mepoch \u001b[38;5;241m+\u001b[39m \u001b[38;5;241m1\u001b[39m\u001b[38;5;132;01m}\u001b[39;00m\u001b[38;5;124m. Training...\u001b[39m\u001b[38;5;124m\"\u001b[39m)\n",
      "Cell \u001b[0;32mIn [5], line 23\u001b[0m, in \u001b[0;36mget_batch\u001b[0;34m(epoch)\u001b[0m\n\u001b[1;32m     20\u001b[0m audio_name \u001b[38;5;241m=\u001b[39m name \u001b[38;5;241m+\u001b[39m \u001b[38;5;124m'\u001b[39m\u001b[38;5;124m.wav\u001b[39m\u001b[38;5;124m'\u001b[39m\u001b[38;5;66;03m# name of audio file\u001b[39;00m\n\u001b[1;32m     22\u001b[0m \u001b[38;5;66;03m# TODO duct-tape solution, figure out how to remove it from dataset\u001b[39;00m\n\u001b[0;32m---> 23\u001b[0m samplerate, samples \u001b[38;5;241m=\u001b[39m \u001b[43mwav\u001b[49m\u001b[38;5;241;43m.\u001b[39;49m\u001b[43mread\u001b[49m\u001b[43m(\u001b[49m\u001b[43maudio_name\u001b[49m\u001b[43m)\u001b[49m\n\u001b[1;32m     24\u001b[0m \u001b[38;5;28;01mif\u001b[39;00m \u001b[38;5;28mlen\u001b[39m(samples) \u001b[38;5;241m<\u001b[39m \u001b[38;5;241m1450\u001b[39m:\n\u001b[1;32m     25\u001b[0m     \u001b[38;5;28;01mcontinue\u001b[39;00m\n",
      "File \u001b[0;32m~/.local/lib/python3.10/site-packages/scipy/io/wavfile.py:647\u001b[0m, in \u001b[0;36mread\u001b[0;34m(filename, mmap)\u001b[0m\n\u001b[1;32m    645\u001b[0m     mmap \u001b[39m=\u001b[39m \u001b[39mFalse\u001b[39;00m\n\u001b[1;32m    646\u001b[0m \u001b[39melse\u001b[39;00m:\n\u001b[0;32m--> 647\u001b[0m     fid \u001b[39m=\u001b[39m \u001b[39mopen\u001b[39;49m(filename, \u001b[39m'\u001b[39;49m\u001b[39mrb\u001b[39;49m\u001b[39m'\u001b[39;49m)\n\u001b[1;32m    649\u001b[0m \u001b[39mtry\u001b[39;00m:\n\u001b[1;32m    650\u001b[0m     file_size, is_big_endian \u001b[39m=\u001b[39m _read_riff_chunk(fid)\n",
      "\u001b[0;31mFileNotFoundError\u001b[0m: [Errno 2] No such file or directory: '/media/khoa/WD SSD/dataset/train/real/REAL_tygaurfrg.wav'"
     ]
    }
   ],
   "source": [
    "for epoch in range(EPOCHS):\n",
    "    if epoch%100 == 0: # Save every 100 epochs\n",
    "        gen.save('./saved_models/generator/khoa10000epochs')\n",
    "        \n",
    "    print(\"Epoch {} starting\".format(epoch+1))\n",
    "    start = time.time()\n",
    "    batch = get_batch(epoch)\n",
    "    display.clear_output(wait=True)\n",
    "    print(f\"Batch Acquisition time {time.time() - start} for epoch {epoch + 1}. Training...\")\n",
    "    train_in_batch(batch, epoch)\n",
    "\n",
    "display.clear_output(wait=True)\n",
    "gen.save('./saved_models/generator/khoa10000epochs')\n",
    "generate_and_save_images(gen, epoch + 1, test_img_arrs, test_img_concats, test_audio_arrs) # Maybe my face?"
   ]
  },
  {
   "cell_type": "markdown",
   "metadata": {},
   "source": [
    "# Demo"
   ]
  },
  {
   "cell_type": "code",
   "execution_count": null,
   "metadata": {},
   "outputs": [
    {
     "name": "stdout",
     "output_type": "stream",
     "text": [
      "Choosing random data batch\n",
      "Batch chosen, processing\n"
     ]
    },
    {
     "name": "stderr",
     "output_type": "stream",
     "text": [
      "100%|██████████| 10/10 [00:00<00:00, 12.90it/s]\n"
     ]
    },
    {
     "name": "stdout",
     "output_type": "stream",
     "text": [
      "Batch processed\n",
      "Batch converted to numpy arrays. Returning\n",
      "1/1 [==============================] - 0s 462ms/step\n",
      "Mean Absolute Difference 0.2675279378890991\n"
     ]
    },
    {
     "data": {
      "image/png": "[encoded data removed]",
      "text/plain": [
       "<Figure size 200x200 with 4 Axes>"
      ]
     },
     "metadata": {},
     "output_type": "display_data"
    }
   ],
   "source": [
    "images, img_concats, audio_samples = random_get_batch(2, 40000)\n",
    "\n",
    "generate_and_save_images(gen, 1000, images, img_concats, audio_samples, False)"
   ]
  },
  {
   "cell_type": "code",
   "execution_count": null,
   "metadata": {},
   "outputs": [
    {
     "name": "stderr",
     "output_type": "stream",
     "text": [
      "WARNING:py.warnings:/tmp/ipykernel_10695/2933232172.py:9: DeprecationWarning: Starting with ImageIO v3 the behavior of this function will switch to that of iio.v3.imread. To keep the current behavior (and make this warning disappear) use `import imageio.v2 as imageio` or call `imageio.v2.imread` directly.\n",
      "  image = imageio.imread(filename)\n",
      "\n",
      "WARNING:py.warnings:/tmp/ipykernel_10695/2933232172.py:11: DeprecationWarning: Starting with ImageIO v3 the behavior of this function will switch to that of iio.v3.imread. To keep the current behavior (and make this warning disappear) use `import imageio.v2 as imageio` or call `imageio.v2.imread` directly.\n",
      "  image = imageio.imread(filename)\n",
      "\n"
     ]
    }
   ],
   "source": [
    "import imageio\n",
    "\n",
    "anim_file = 'deepfake.gif'\n",
    "\n",
    "with imageio.get_writer(anim_file, mode='I') as writer:\n",
    "  filenames = glob.glob('generated_images/image_at_epoch*.png')\n",
    "  filenames = sorted(filenames)\n",
    "  for filename in filenames:\n",
    "    image = imageio.imread(filename)\n",
    "    writer.append_data(image)\n",
    "  image = imageio.imread(filename)\n",
    "  writer.append_data(image)\n",
    "\n",
    "    "
   ]
  },
  {
   "cell_type": "markdown",
   "metadata": {},
   "source": [
    "# Test"
   ]
  },
  {
   "cell_type": "markdown",
   "metadata": {},
   "source": []
  }
 ],
 "metadata": {
  "kernelspec": {
   "display_name": "deepfake",
   "language": "python",
   "name": "python3"
  },
  "language_info": {
   "codemirror_mode": {
    "name": "ipython",
    "version": 3
   },
   "file_extension": ".py",
   "mimetype": "text/x-python",
   "name": "python",
   "nbconvert_exporter": "python",
   "pygments_lexer": "ipython3",
   "version": "3.10.10"
  },
  "orig_nbformat": 4,
  "vscode": {
   "interpreter": {
    "hash": "f2d30038d9eadfc365751030bb4cb5619d2e16fa28452ae3a5f7981421cb1dc7"
   }
  }
 },
 "nbformat": 4,
 "nbformat_minor": 2
}
